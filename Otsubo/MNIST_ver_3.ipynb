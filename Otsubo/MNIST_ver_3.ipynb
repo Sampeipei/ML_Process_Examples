{
 "cells": [
  {
   "cell_type": "markdown",
   "metadata": {},
   "source": [
    "# 0. npzファイルの読み込みと展開"
   ]
  },
  {
   "cell_type": "code",
   "execution_count": 1,
   "metadata": {},
   "outputs": [],
   "source": [
    "#cmdやcondaでTensorflowをインストール\n",
    "import numpy as np\n",
    "import tensorflow as tf\n",
    "import matplotlib.pyplot as plt\n",
    "import importlib"
   ]
  },
  {
   "cell_type": "code",
   "execution_count": 2,
   "metadata": {},
   "outputs": [],
   "source": [
    "npz =  np.load('C:/my_comp_train_XY/my_comp_train_XY.npz')\n",
    "X_train = npz['X']\n",
    "y_train = npz['y']"
   ]
  },
  {
   "cell_type": "markdown",
   "metadata": {},
   "source": [
    " # 1. データをダウンロードする"
   ]
  },
  {
   "cell_type": "code",
   "execution_count": 3,
   "metadata": {
    "scrolled": true
   },
   "outputs": [
    {
     "data": {
      "text/plain": [
       "array([[[0, 0, 0, ..., 0, 0, 0],\n",
       "        [0, 0, 0, ..., 0, 0, 0],\n",
       "        [0, 0, 0, ..., 0, 0, 0],\n",
       "        ...,\n",
       "        [0, 0, 0, ..., 0, 0, 0],\n",
       "        [0, 0, 0, ..., 0, 0, 0],\n",
       "        [0, 0, 0, ..., 0, 0, 0]],\n",
       "\n",
       "       [[0, 0, 0, ..., 0, 0, 0],\n",
       "        [0, 0, 0, ..., 0, 0, 0],\n",
       "        [0, 0, 0, ..., 0, 0, 0],\n",
       "        ...,\n",
       "        [0, 0, 0, ..., 0, 0, 0],\n",
       "        [0, 0, 0, ..., 0, 0, 0],\n",
       "        [0, 0, 0, ..., 0, 0, 0]],\n",
       "\n",
       "       [[0, 0, 0, ..., 0, 0, 0],\n",
       "        [0, 0, 0, ..., 0, 0, 0],\n",
       "        [0, 0, 0, ..., 0, 0, 0],\n",
       "        ...,\n",
       "        [0, 0, 0, ..., 0, 0, 0],\n",
       "        [0, 0, 0, ..., 0, 0, 0],\n",
       "        [0, 0, 0, ..., 0, 0, 0]],\n",
       "\n",
       "       ...,\n",
       "\n",
       "       [[0, 0, 0, ..., 0, 0, 0],\n",
       "        [0, 0, 0, ..., 0, 0, 0],\n",
       "        [0, 0, 0, ..., 0, 0, 0],\n",
       "        ...,\n",
       "        [0, 0, 0, ..., 0, 0, 0],\n",
       "        [0, 0, 0, ..., 0, 0, 0],\n",
       "        [0, 0, 0, ..., 0, 0, 0]],\n",
       "\n",
       "       [[0, 0, 0, ..., 0, 0, 0],\n",
       "        [0, 0, 0, ..., 0, 0, 0],\n",
       "        [0, 0, 0, ..., 0, 0, 0],\n",
       "        ...,\n",
       "        [0, 0, 0, ..., 0, 0, 0],\n",
       "        [0, 0, 0, ..., 0, 0, 0],\n",
       "        [0, 0, 0, ..., 0, 0, 0]],\n",
       "\n",
       "       [[0, 0, 0, ..., 0, 0, 0],\n",
       "        [0, 0, 0, ..., 0, 0, 0],\n",
       "        [0, 0, 0, ..., 0, 0, 0],\n",
       "        ...,\n",
       "        [0, 0, 0, ..., 0, 0, 0],\n",
       "        [0, 0, 0, ..., 0, 0, 0],\n",
       "        [0, 0, 0, ..., 0, 0, 0]]], dtype=uint8)"
      ]
     },
     "execution_count": 3,
     "metadata": {},
     "output_type": "execute_result"
    }
   ],
   "source": [
    "X_train"
   ]
  },
  {
   "cell_type": "code",
   "execution_count": 4,
   "metadata": {},
   "outputs": [
    {
     "data": {
      "text/plain": [
       "array([0, 0, 0, ..., 9, 9, 9], dtype=uint8)"
      ]
     },
     "execution_count": 4,
     "metadata": {},
     "output_type": "execute_result"
    }
   ],
   "source": [
    "y_train"
   ]
  },
  {
   "cell_type": "markdown",
   "metadata": {},
   "source": [
    " # 2. データを分析する"
   ]
  },
  {
   "cell_type": "markdown",
   "metadata": {},
   "source": [
    " # 2-1. データラベルの分布の可視化"
   ]
  },
  {
   "cell_type": "code",
   "execution_count": 5,
   "metadata": {},
   "outputs": [
    {
     "name": "stdout",
     "output_type": "stream",
     "text": [
      "[0 1 2 3 4 5 6 7 8 9]\n",
      "[4146 3371 5362 4904 4089 3252 5326 5012 5851 4164]\n"
     ]
    }
   ],
   "source": [
    "#ユニークな要素を引数return_countsでカウント\n",
    "labels, label_count = np.unique(y_train, return_counts=True)\n",
    "print(labels)\n",
    "print(label_count)"
   ]
  },
  {
   "cell_type": "code",
   "execution_count": 6,
   "metadata": {},
   "outputs": [
    {
     "data": {
      "image/png": "[encoded data removed]",
      "text/plain": [
       "<Figure size 432x288 with 1 Axes>"
      ]
     },
     "metadata": {
      "needs_background": "light"
     },
     "output_type": "display_data"
    }
   ],
   "source": [
    "#0から9の画像の分布を表示\n",
    "plt.bar(labels, label_count)\n",
    "plt.xticks(range(0,10))\n",
    "plt.show()"
   ]
  },
  {
   "cell_type": "markdown",
   "metadata": {},
   "source": [
    " # 2-2. データ値の範囲の可視化"
   ]
  },
  {
   "cell_type": "code",
   "execution_count": 7,
   "metadata": {},
   "outputs": [
    {
     "name": "stdout",
     "output_type": "stream",
     "text": [
      "(45477, 28, 28)\n",
      "(45477,)\n"
     ]
    }
   ],
   "source": [
    "print(X_train.shape)\n",
    "print(y_train.shape)"
   ]
  },
  {
   "cell_type": "code",
   "execution_count": 8,
   "metadata": {},
   "outputs": [
    {
     "name": "stdout",
     "output_type": "stream",
     "text": [
      "(35653968,)\n"
     ]
    }
   ],
   "source": [
    "#ravel関数による一次元配列の返却\n",
    "#データの数、高さ、幅の三次元\n",
    "#今回は写真の枚数、ピクセルの位置を横に並べるイメージ\n",
    "print(X_train.ravel().shape)"
   ]
  },
  {
   "cell_type": "code",
   "execution_count": 9,
   "metadata": {},
   "outputs": [
    {
     "data": {
      "image/png": "[encoded data removed]",
      "text/plain": [
       "<Figure size 432x288 with 1 Axes>"
      ]
     },
     "metadata": {
      "needs_background": "light"
     },
     "output_type": "display_data"
    }
   ],
   "source": [
    "#縦軸：各データの中のピクセルの個数[10^7個]\n",
    "plt.hist(X_train.ravel())\n",
    "plt.show()"
   ]
  },
  {
   "cell_type": "code",
   "execution_count": 10,
   "metadata": {},
   "outputs": [
    {
     "data": {
      "text/plain": [
       "0"
      ]
     },
     "execution_count": 10,
     "metadata": {},
     "output_type": "execute_result"
    }
   ],
   "source": [
    "#欠損値の数の計上\n",
    "np.isnan(X_train.ravel()).sum()"
   ]
  },
  {
   "cell_type": "markdown",
   "metadata": {},
   "source": [
    " # 2-3. 画像の表示"
   ]
  },
  {
   "cell_type": "code",
   "execution_count": 11,
   "metadata": {},
   "outputs": [],
   "source": [
    "import matplotlib as mpl\n",
    "import matplotlib.pyplot as plt"
   ]
  },
  {
   "cell_type": "code",
   "execution_count": 12,
   "metadata": {},
   "outputs": [
    {
     "data": {
      "image/png": "[encoded data removed]",
      "text/plain": [
       "<Figure size 432x288 with 1 Axes>"
      ]
     },
     "metadata": {
      "needs_background": "light"
     },
     "output_type": "display_data"
    }
   ],
   "source": [
    "some_digit = X_train[0]\n",
    "some_digit_image = some_digit.reshape(28, 28)\n",
    "plt.imshow(some_digit_image, cmap='binary')\n",
    "plt.show()"
   ]
  },
  {
   "cell_type": "code",
   "execution_count": 13,
   "metadata": {},
   "outputs": [
    {
     "data": {
      "image/png": "[encoded data removed]",
      "text/plain": [
       "<Figure size 432x288 with 1 Axes>"
      ]
     },
     "metadata": {
      "needs_background": "light"
     },
     "output_type": "display_data"
    }
   ],
   "source": [
    "some_digit_01 = X_train[8468]\n",
    "some_digit_01_image = some_digit_01.reshape(28, 28)\n",
    "plt.imshow(some_digit_01_image, cmap='binary')\n",
    "plt.show()"
   ]
  },
  {
   "cell_type": "code",
   "execution_count": 14,
   "metadata": {},
   "outputs": [
    {
     "data": {
      "image/png": "[encoded data removed]",
      "text/plain": [
       "<Figure size 432x288 with 1 Axes>"
      ]
     },
     "metadata": {
      "needs_background": "light"
     },
     "output_type": "display_data"
    }
   ],
   "source": [
    "some_digit_02 = X_train[35469]\n",
    "some_digit_02_image = some_digit_02.reshape(28, 28)\n",
    "plt.imshow(some_digit_02_image, cmap='binary')\n",
    "plt.show()"
   ]
  },
  {
   "cell_type": "code",
   "execution_count": 15,
   "metadata": {},
   "outputs": [],
   "source": [
    "def show_image_by_label(X, y, target_label, show_num=6, figsize=(8,8), random=True):\n",
    "    X_sub, y_sub= X[y==target_label], y[y==target_label]\n",
    "    if random:\n",
    "        rnd_idx = np.random.permutation(len(X_sub))[:show_num]\n",
    "        X_sub, y_sub = X_sub[rnd_idx], y_sub[rnd_idx]\n",
    "    X_sub, y_sub = X_sub[:show_num], y_sub[:show_num]\n",
    "    \n",
    "    rows, cols = np.ceil(show_num/2), 3\n",
    "    plt.figure(figsize=figsize)\n",
    "    print(\"Showing image with label:{}\".format(target_label))\n",
    "    for i, img in enumerate(X_sub):\n",
    "        plt.subplot(rows, cols, i+1)\n",
    "        plt.imshow(img, cmap=\"gray\")\n",
    "        plt.axis('off')\n",
    "    plt.show()"
   ]
  },
  {
   "cell_type": "code",
   "execution_count": 16,
   "metadata": {},
   "outputs": [
    {
     "name": "stdout",
     "output_type": "stream",
     "text": [
      "Showing image with label:0\n"
     ]
    },
    {
     "name": "stderr",
     "output_type": "stream",
     "text": [
      "<ipython-input-15-6419b0dceb46>:12: MatplotlibDeprecationWarning: Passing non-integers as three-element position specification is deprecated since 3.3 and will be removed two minor releases later.\n",
      "  plt.subplot(rows, cols, i+1)\n"
     ]
    },
    {
     "data": {
      "image/png": "[encoded data removed]",
      "text/plain": [
       "<Figure size 576x576 with 6 Axes>"
      ]
     },
     "metadata": {
      "needs_background": "light"
     },
     "output_type": "display_data"
    },
    {
     "name": "stdout",
     "output_type": "stream",
     "text": [
      "Showing image with label:1\n"
     ]
    },
    {
     "data": {
      "image/png": "[encoded data removed]",
      "text/plain": [
       "<Figure size 576x576 with 6 Axes>"
      ]
     },
     "metadata": {
      "needs_background": "light"
     },
     "output_type": "display_data"
    },
    {
     "name": "stdout",
     "output_type": "stream",
     "text": [
      "Showing image with label:2\n"
     ]
    },
    {
     "data": {
      "image/png": "[encoded data removed]",
      "text/plain": [
       "<Figure size 576x576 with 6 Axes>"
      ]
     },
     "metadata": {
      "needs_background": "light"
     },
     "output_type": "display_data"
    },
    {
     "name": "stdout",
     "output_type": "stream",
     "text": [
      "Showing image with label:3\n"
     ]
    },
    {
     "data": {
      "image/png": "[encoded data removed]",
      "text/plain": [
       "<Figure size 576x576 with 6 Axes>"
      ]
     },
     "metadata": {
      "needs_background": "light"
     },
     "output_type": "display_data"
    },
    {
     "name": "stdout",
     "output_type": "stream",
     "text": [
      "Showing image with label:4\n"
     ]
    },
    {
     "data": {
      "image/png": "[encoded data removed]",
      "text/plain": [
       "<Figure size 576x576 with 6 Axes>"
      ]
     },
     "metadata": {
      "needs_background": "light"
     },
     "output_type": "display_data"
    },
    {
     "name": "stdout",
     "output_type": "stream",
     "text": [
      "Showing image with label:5\n"
     ]
    },
    {
     "data": {
      "image/png": "[encoded data removed]",
      "text/plain": [
       "<Figure size 576x576 with 6 Axes>"
      ]
     },
     "metadata": {
      "needs_background": "light"
     },
     "output_type": "display_data"
    },
    {
     "name": "stdout",
     "output_type": "stream",
     "text": [
      "Showing image with label:6\n"
     ]
    },
    {
     "data": {
      "image/png": "[encoded data removed]",
      "text/plain": [
       "<Figure size 576x576 with 6 Axes>"
      ]
     },
     "metadata": {
      "needs_background": "light"
     },
     "output_type": "display_data"
    },
    {
     "name": "stdout",
     "output_type": "stream",
     "text": [
      "Showing image with label:7\n"
     ]
    },
    {
     "data": {
      "image/png": "[encoded data removed]",
      "text/plain": [
       "<Figure size 576x576 with 6 Axes>"
      ]
     },
     "metadata": {
      "needs_background": "light"
     },
     "output_type": "display_data"
    },
    {
     "name": "stdout",
     "output_type": "stream",
     "text": [
      "Showing image with label:8\n"
     ]
    },
    {
     "data": {
      "image/png": "[encoded data removed]",
      "text/plain": [
       "<Figure size 576x576 with 6 Axes>"
      ]
     },
     "metadata": {
      "needs_background": "light"
     },
     "output_type": "display_data"
    },
    {
     "name": "stdout",
     "output_type": "stream",
     "text": [
      "Showing image with label:9\n"
     ]
    },
    {
     "data": {
      "image/png": "[encoded data removed]",
      "text/plain": [
       "<Figure size 576x576 with 6 Axes>"
      ]
     },
     "metadata": {
      "needs_background": "light"
     },
     "output_type": "display_data"
    }
   ],
   "source": [
    "for label in np.unique(y_train):\n",
    "    show_image_by_label(X_train, y_train, target_label=label)"
   ]
  },
  {
   "cell_type": "markdown",
   "metadata": {},
   "source": [
    " # 3. データを前処理する"
   ]
  },
  {
   "cell_type": "markdown",
   "metadata": {},
   "source": [
    " # 3-1. 訓練データとテストデータへの分類"
   ]
  },
  {
   "cell_type": "code",
   "execution_count": 17,
   "metadata": {},
   "outputs": [],
   "source": [
    "import numpy as np\n",
    "import seaborn as sns\n",
    "import matplotlib.pyplot as plt\n",
    "\n",
    "from sklearn.model_selection import train_test_split\n",
    "from sklearn.linear_model import LogisticRegression\n",
    "from sklearn.ensemble import RandomForestClassifier\n",
    "from sklearn.metrics import accuracy_score, confusion_matrix"
   ]
  },
  {
   "cell_type": "code",
   "execution_count": 18,
   "metadata": {},
   "outputs": [],
   "source": [
    "#npzファイルの読み込みと展開\n",
    "npz = np.load('C:/my_comp_train_XY/my_comp_train_XY.npz')\n",
    "X_train_raw = npz['X']\n",
    "y_train_raw = npz['y']"
   ]
  },
  {
   "cell_type": "markdown",
   "metadata": {},
   "source": [
    " # 3-2. 標準化・データのレンジ"
   ]
  },
  {
   "cell_type": "code",
   "execution_count": 19,
   "metadata": {},
   "outputs": [],
   "source": [
    "#ravel()で展開したXのデータを0.0から1.0に標準化\n",
    "X_train_scaled = X_train_raw/255.\n",
    "y_train_scaled = y_train_raw.copy()"
   ]
  },
  {
   "cell_type": "code",
   "execution_count": 20,
   "metadata": {},
   "outputs": [
    {
     "data": {
      "image/png": "[encoded data removed]",
      "text/plain": [
       "<Figure size 432x288 with 1 Axes>"
      ]
     },
     "metadata": {
      "needs_background": "light"
     },
     "output_type": "display_data"
    }
   ],
   "source": [
    "#縦軸：各データの中のピクセルの個数[10^7個]\n",
    "plt.hist(X_train_scaled.ravel())\n",
    "plt.show()"
   ]
  },
  {
   "cell_type": "code",
   "execution_count": 21,
   "metadata": {},
   "outputs": [],
   "source": [
    "#訓練データとテストデータに分ける(引数stratify)\n",
    "X_train, X_valid, y_train, y_valid = train_test_split(X_train_scaled, y_train_scaled,\n",
    "                                                      shuffle=True, test_size=0.15, stratify=y_train_scaled)"
   ]
  },
  {
   "cell_type": "code",
   "execution_count": 22,
   "metadata": {},
   "outputs": [
    {
     "name": "stdout",
     "output_type": "stream",
     "text": [
      "Train data shape, X_train.shape:(38655, 28, 28) y_train.shape:(38655,)\n",
      "Train data shape, X_valid.shape:(6822, 28, 28) y_valid.shape:(6822,)\n"
     ]
    }
   ],
   "source": [
    "print(\"Train data shape, X_train.shape:{} y_train.shape:{}\".format(X_train.shape, y_train.shape))\n",
    "print(\"Train data shape, X_valid.shape:{} y_valid.shape:{}\".format(X_valid.shape, y_valid.shape))"
   ]
  },
  {
   "cell_type": "code",
   "execution_count": 23,
   "metadata": {},
   "outputs": [
    {
     "data": {
      "image/png": "[encoded data removed]",
      "text/plain": [
       "<Figure size 432x288 with 1 Axes>"
      ]
     },
     "metadata": {
      "needs_background": "light"
     },
     "output_type": "display_data"
    }
   ],
   "source": [
    "plt.hist(y_train)\n",
    "plt.show()"
   ]
  },
  {
   "cell_type": "code",
   "execution_count": 24,
   "metadata": {},
   "outputs": [
    {
     "data": {
      "image/png": "[encoded data removed]",
      "text/plain": [
       "<Figure size 432x288 with 1 Axes>"
      ]
     },
     "metadata": {
      "needs_background": "light"
     },
     "output_type": "display_data"
    }
   ],
   "source": [
    "plt.hist(y_valid)\n",
    "plt.show()"
   ]
  },
  {
   "cell_type": "markdown",
   "metadata": {},
   "source": [
    " # 4. 訓練データでモデルを学習する"
   ]
  },
  {
   "cell_type": "markdown",
   "metadata": {},
   "source": [
    "# 4-1. モデルの選択"
   ]
  },
  {
   "cell_type": "code",
   "execution_count": 25,
   "metadata": {},
   "outputs": [
    {
     "name": "stdout",
     "output_type": "stream",
     "text": [
      "(38655, 784)\n",
      "(6822, 784)\n"
     ]
    }
   ],
   "source": [
    "#ロジスティック回帰を用いる\n",
    "X_train_logireg, X_valid_logireg = X_train.reshape(-1, 28*28),X_valid.reshape(-1, 28*28)\n",
    "print(X_train_logireg.shape)\n",
    "print(X_valid_logireg.shape)"
   ]
  },
  {
   "cell_type": "code",
   "execution_count": 26,
   "metadata": {},
   "outputs": [],
   "source": [
    "#モデルのインスタンス化(テキストp74)\n",
    "model_logireg = LogisticRegression(verbose=1)"
   ]
  },
  {
   "cell_type": "code",
   "execution_count": 27,
   "metadata": {},
   "outputs": [
    {
     "name": "stderr",
     "output_type": "stream",
     "text": [
      "[Parallel(n_jobs=1)]: Using backend SequentialBackend with 1 concurrent workers.\n",
      "C:\\Users\\takay\\anaconda3\\lib\\site-packages\\sklearn\\linear_model\\_logistic.py:762: ConvergenceWarning: lbfgs failed to converge (status=1):\n",
      "STOP: TOTAL NO. of ITERATIONS REACHED LIMIT.\n",
      "\n",
      "Increase the number of iterations (max_iter) or scale the data as shown in:\n",
      "    https://scikit-learn.org/stable/modules/preprocessing.html\n",
      "Please also refer to the documentation for alternative solver options:\n",
      "    https://scikit-learn.org/stable/modules/linear_model.html#logistic-regression\n",
      "  n_iter_i = _check_optimize_result(\n",
      "[Parallel(n_jobs=1)]: Done   1 out of   1 | elapsed:   23.5s finished\n"
     ]
    },
    {
     "data": {
      "text/plain": [
       "LogisticRegression(verbose=1)"
      ]
     },
     "execution_count": 27,
     "metadata": {},
     "output_type": "execute_result"
    }
   ],
   "source": [
    "model_logireg.fit(X_train_logireg, y_train)"
   ]
  },
  {
   "cell_type": "markdown",
   "metadata": {},
   "source": [
    " # 5. 精度を評価する"
   ]
  },
  {
   "cell_type": "code",
   "execution_count": 28,
   "metadata": {},
   "outputs": [
    {
     "name": "stdout",
     "output_type": "stream",
     "text": [
      "Train accuracy 0.9382744793687751\n",
      "Valid accuracy 0.9249486953972442\n"
     ]
    }
   ],
   "source": [
    "#訓練データとテストデータの精度\n",
    "y_logireg_train_predictions = model_logireg.predict(X_train_logireg)\n",
    "y_logireg_valid_predictions = model_logireg.predict(X_valid_logireg)\n",
    "\n",
    "accuracy_logireg_train = accuracy_score(y_train, y_logireg_train_predictions)\n",
    "accuracy_logireg_valid = accuracy_score(y_valid, y_logireg_valid_predictions)\n",
    "\n",
    "print(\"Train accuracy\", accuracy_logireg_train)\n",
    "print(\"Valid accuracy\", accuracy_logireg_valid)"
   ]
  },
  {
   "cell_type": "code",
   "execution_count": 29,
   "metadata": {},
   "outputs": [],
   "source": [
    "import numpy as np\n",
    "import matplotlib.pyplot as plt\n",
    "import seaborn as sns\n",
    "\n",
    "from sklearn.model_selection import train_test_split\n",
    "from sklearn.linear_model import LogisticRegression\n",
    "from sklearn.ensemble import RandomForestClassifier\n",
    "from sklearn.metrics import accuracy_score, confusion_matrix"
   ]
  },
  {
   "cell_type": "code",
   "execution_count": 30,
   "metadata": {},
   "outputs": [],
   "source": [
    "#精度を混同行列で評価する\n",
    "matrix_logireg_valid = confusion_matrix(y_valid, y_logireg_valid_predictions)"
   ]
  },
  {
   "cell_type": "code",
   "execution_count": 31,
   "metadata": {},
   "outputs": [
    {
     "data": {
      "text/plain": [
       "array([[592,   0,   6,   0,   2,   8,   4,   2,   7,   1],\n",
       "       [  1, 491,   6,   2,   0,   0,   1,   1,   4,   0],\n",
       "       [  2,   8, 730,  11,   7,   4,  14,   8,  18,   2],\n",
       "       [  2,   4,  19, 653,   1,  22,   2,   3,  24,   6],\n",
       "       [  1,   1,   4,   1, 565,   2,  10,   2,   6,  21],\n",
       "       [  3,   0,   5,  20,   4, 422,   7,   4,  20,   3],\n",
       "       [  8,   2,   7,   1,   9,   2, 765,   0,   5,   0],\n",
       "       [  1,   0,   5,   2,   5,   2,   1, 720,   0,  16],\n",
       "       [  8,   5,   5,  13,   7,  12,   8,   3, 812,   5],\n",
       "       [  2,   1,   2,   6,  21,   4,   1,  23,   4, 560]], dtype=int64)"
      ]
     },
     "execution_count": 31,
     "metadata": {},
     "output_type": "execute_result"
    }
   ],
   "source": [
    "matrix_logireg_valid"
   ]
  },
  {
   "cell_type": "code",
   "execution_count": 32,
   "metadata": {},
   "outputs": [
    {
     "data": {
      "image/png": "[encoded data removed]",
      "text/plain": [
       "<Figure size 1008x576 with 2 Axes>"
      ]
     },
     "metadata": {
      "needs_background": "light"
     },
     "output_type": "display_data"
    }
   ],
   "source": [
    "#ヒートマップによる二次元データの可視化\n",
    "#テストデータy_validが縦軸、予測値y_logireg_valid_predictionsが横軸\n",
    "#scikit-learnのドキュメントを参照にすること\n",
    "plt.figure(figsize=(14, 8))\n",
    "sns.heatmap(matrix_logireg_valid, annot=True, fmt='g', cmap='Greens', vmin=0, vmax=40)\n",
    "plt.show()"
   ]
  },
  {
   "cell_type": "markdown",
   "metadata": {},
   "source": [
    " # Ramdom Forestを用いた場合"
   ]
  },
  {
   "cell_type": "code",
   "execution_count": 33,
   "metadata": {},
   "outputs": [
    {
     "name": "stdout",
     "output_type": "stream",
     "text": [
      "(38655, 784)\n",
      "(6822, 784)\n"
     ]
    }
   ],
   "source": [
    "X_train_rndforest, X_valid_rndforest = X_train.reshape(-1, 28*28), X_valid.reshape(-1, 28*28)\n",
    "print(X_train_rndforest.shape)\n",
    "print(X_valid_rndforest.shape)"
   ]
  },
  {
   "cell_type": "code",
   "execution_count": 34,
   "metadata": {},
   "outputs": [],
   "source": [
    "#モデルのインスタンス化(テキストp74)\n",
    "model_rndforest = RandomForestClassifier()"
   ]
  },
  {
   "cell_type": "code",
   "execution_count": 35,
   "metadata": {},
   "outputs": [
    {
     "data": {
      "text/plain": [
       "RandomForestClassifier()"
      ]
     },
     "execution_count": 35,
     "metadata": {},
     "output_type": "execute_result"
    }
   ],
   "source": [
    "model_rndforest.fit(X_train_rndforest, y_train)"
   ]
  },
  {
   "cell_type": "code",
   "execution_count": 36,
   "metadata": {},
   "outputs": [
    {
     "name": "stdout",
     "output_type": "stream",
     "text": [
      "Train accuracy 1.0\n",
      "Valid accuracy 0.9662855467604808\n"
     ]
    }
   ],
   "source": [
    "#訓練データとテストデータの精度\n",
    "y_rndforest_train_predictions = model_rndforest.predict(X_train_rndforest)\n",
    "y_rndforest_valid_predictions = model_rndforest.predict(X_valid_rndforest)\n",
    "\n",
    "accuracy_rndforest_train = accuracy_score(y_train, y_rndforest_train_predictions)\n",
    "accuracy_rndforest_valid = accuracy_score(y_valid, y_rndforest_valid_predictions)\n",
    "\n",
    "print(\"Train accuracy\", accuracy_rndforest_train)\n",
    "print(\"Valid accuracy\", accuracy_rndforest_valid)"
   ]
  },
  {
   "cell_type": "code",
   "execution_count": 37,
   "metadata": {},
   "outputs": [],
   "source": [
    "import numpy as np\n",
    "import matplotlib.pyplot as plt\n",
    "import seaborn as sns\n",
    "\n",
    "from sklearn.model_selection import train_test_split\n",
    "from sklearn.linear_model import LogisticRegression\n",
    "from sklearn.ensemble import RandomForestClassifier\n",
    "from sklearn.metrics import accuracy_score, confusion_matrix"
   ]
  },
  {
   "cell_type": "code",
   "execution_count": 38,
   "metadata": {},
   "outputs": [],
   "source": [
    "#精度を混同行列で評価する\n",
    "matrix_rndforest_valid = confusion_matrix(y_valid, y_rndforest_valid_predictions)"
   ]
  },
  {
   "cell_type": "code",
   "execution_count": 39,
   "metadata": {},
   "outputs": [
    {
     "data": {
      "text/plain": [
       "array([[606,   0,   1,   1,   2,   0,   3,   1,   7,   1],\n",
       "       [  0, 496,   5,   0,   0,   0,   2,   1,   1,   1],\n",
       "       [  4,   0, 784,   2,   2,   0,   3,   5,   4,   0],\n",
       "       [  0,   0,  15, 692,   0,   4,   3,   3,  16,   3],\n",
       "       [  1,   0,   1,   0, 591,   0,   5,   1,   2,  12],\n",
       "       [  4,   0,   2,   4,   1, 464,   3,   1,   7,   2],\n",
       "       [  7,   0,   0,   0,   2,   1, 784,   0,   5,   0],\n",
       "       [  0,   0,   8,   1,   4,   0,   0, 730,   2,   7],\n",
       "       [  3,   0,   4,   1,   4,   1,   4,   2, 851,   8],\n",
       "       [  3,   0,   0,   5,   8,   1,   0,  11,   2, 594]], dtype=int64)"
      ]
     },
     "execution_count": 39,
     "metadata": {},
     "output_type": "execute_result"
    }
   ],
   "source": [
    "matrix_rndforest_valid"
   ]
  },
  {
   "cell_type": "code",
   "execution_count": 40,
   "metadata": {},
   "outputs": [
    {
     "data": {
      "image/png": "[encoded data removed]",
      "text/plain": [
       "<Figure size 1008x576 with 2 Axes>"
      ]
     },
     "metadata": {
      "needs_background": "light"
     },
     "output_type": "display_data"
    }
   ],
   "source": [
    "#ヒートマップによる二次元データの可視化\n",
    "#テストデータy_validが縦軸、予測値y_logireg_valid_predictionsが横軸\n",
    "#scikit-learnのドキュメントを参照にすること\n",
    "plt.figure(figsize=(14, 8))\n",
    "sns.heatmap(matrix_rndforest_valid, annot=True, fmt='g', cmap='Greens', vmin=0, vmax=40)\n",
    "plt.show()"
   ]
  },
  {
   "cell_type": "markdown",
   "metadata": {},
   "source": [
    "# 2モデルの比較(logireg & rndforest)"
   ]
  },
  {
   "cell_type": "code",
   "execution_count": 41,
   "metadata": {},
   "outputs": [
    {
     "data": {
      "image/png": "[encoded data removed]",
      "text/plain": [
       "<Figure size 1008x576 with 4 Axes>"
      ]
     },
     "metadata": {
      "needs_background": "light"
     },
     "output_type": "display_data"
    }
   ],
   "source": [
    "fig, axs = plt.subplots(1, 2, figsize=(14, 8))\n",
    "\n",
    "map_min, map_max = 0, 40\n",
    "\n",
    "sns.heatmap(matrix_logireg_valid, annot=True, fmt='g', cmap='Greens', vmin=map_min, vmax=map_max, ax=axs[0])\n",
    "sns.heatmap(matrix_rndforest_valid, annot=True, fmt='g', cmap='Greens', vmin=map_min, vmax=map_max, ax=axs[1])\n",
    "\n",
    "axs[0].set_title(\"Logistic Regression confusion matrix\")\n",
    "axs[1].set_title(\"Random Forest confusion matrix\")\n",
    "plt.show()"
   ]
  },
  {
   "cell_type": "markdown",
   "metadata": {},
   "source": [
    "# 6. 再調整"
   ]
  },
  {
   "cell_type": "markdown",
   "metadata": {},
   "source": [
    "# 6-1. グリッドサーチの総当たりの範囲"
   ]
  },
  {
   "cell_type": "code",
   "execution_count": 42,
   "metadata": {},
   "outputs": [],
   "source": [
    "#cmdやcondaでTensorflowをインストール\n",
    "\n",
    "import numpy as np\n",
    "import pandas as pd\n",
    "import tensorflow as tf\n",
    "import matplotlib.pyplot as plt\n",
    "import seaborn as sns\n",
    "\n",
    "from sklearn.model_selection import train_test_split, GridSearchCV\n",
    "from sklearn.linear_model import LogisticRegression\n",
    "from sklearn.metrics import (\n",
    "    accuracy_score,\n",
    "    recall_score,\n",
    "    precision_score,\n",
    "    f1_score, make_scorer,\n",
    "    confusion_matrix,\n",
    ")\n",
    "from tensorflow.keras.preprocessing.image import ImageDataGenerator"
   ]
  },
  {
   "cell_type": "code",
   "execution_count": 43,
   "metadata": {},
   "outputs": [],
   "source": [
    "npz = np.load('C:/my_comp_train_XY/my_comp_train_XY.npz')\n",
    "X_raw = npz['X']\n",
    "y_raw = npz['y']"
   ]
  },
  {
   "cell_type": "code",
   "execution_count": 44,
   "metadata": {},
   "outputs": [
    {
     "name": "stdout",
     "output_type": "stream",
     "text": [
      "Train data shape, X_train.shape:(38655, 28, 28) y_train.shape:(38655,)\n",
      "Train data shape, X_valid.shape:(6822, 28, 28) y_valid.shape:(6822,)\n"
     ]
    }
   ],
   "source": [
    "#データの前処理\n",
    "#訓練データとテストデータに分ける(引数stratify)\n",
    "X_train_adj, X_valid_adj, y_train_adj, y_valid_adj = train_test_split(X_raw, y_raw,\n",
    "                                                      shuffle=True, test_size=0.15, stratify=y_raw)\n",
    "print(\"Train data shape, X_train.shape:{} y_train.shape:{}\".format(X_train_adj.shape, y_train_adj.shape))\n",
    "print(\"Train data shape, X_valid.shape:{} y_valid.shape:{}\".format(X_valid_adj.shape, y_valid_adj.shape))"
   ]
  },
  {
   "cell_type": "code",
   "execution_count": 45,
   "metadata": {},
   "outputs": [],
   "source": [
    "#ravel()で展開したXのデータを0.0から1.0に標準化\n",
    "X_train = (X_train_adj/255.).reshape(-1, 28*28)\n",
    "X_valid = (X_valid_adj/255.).reshape(-1, 28*28)\n",
    "y_train = y_train_adj.copy().reshape(-1, 1)\n",
    "y_valid = y_valid_adj.copy().reshape(-1, 1)"
   ]
  },
  {
   "cell_type": "markdown",
   "metadata": {},
   "source": [
    " # グリッドサーチ"
   ]
  },
  {
   "cell_type": "code",
   "execution_count": 46,
   "metadata": {},
   "outputs": [],
   "source": [
    "logireg = LogisticRegression()\n",
    "\n",
    "param_grid = {\n",
    "    \"penalty\":[\"l1\", \"l2\"],\n",
    "    \"C\":[0.01, 0.1, 0.5, 1.0, 1.5, 2.0, 3.0],\n",
    "}\n",
    "\n",
    "scoring = {\n",
    "    \"accuracy\": make_scorer(accuracy_score),\n",
    "    \"recall\": make_scorer(recall_score, average=\"micro\"),\n",
    "    \"precision\": make_scorer(precision_score, average=\"micro\"), \n",
    "    \"f1\": make_scorer(f1_score, average=\"micro\"),\n",
    "}\n",
    "\n",
    "#Closs Validationの分割数(デフォルト値は3)\n",
    "cv = 5\n",
    "#最良だったパラメタを使って学習データ全体で再学習するかどうか\n",
    "refit = False\n",
    "#トレーニングスコアを含むかどうか\n",
    "return_train_score = True\n",
    "#ログ出力レベル\n",
    "verbose = 3"
   ]
  },
  {
   "cell_type": "code",
   "execution_count": 47,
   "metadata": {},
   "outputs": [],
   "source": [
    "grid_search_v1 = GridSearchCV(\n",
    "    logireg,\n",
    "    param_grid,\n",
    "    scoring=scoring,\n",
    "    cv=cv,\n",
    "    refit=refit, \n",
    "    return_train_score=return_train_score,\n",
    "    verbose=verbose)"
   ]
  },
  {
   "cell_type": "code",
   "execution_count": 48,
   "metadata": {},
   "outputs": [
    {
     "name": "stdout",
     "output_type": "stream",
     "text": [
      "Fitting 5 folds for each of 14 candidates, totalling 70 fits\n",
      "[CV] C=0.01, penalty=l1 ..............................................\n",
      "[CV]  C=0.01, penalty=l1, accuracy=(train=nan, test=nan), f1=(train=nan, test=nan), precision=(train=nan, test=nan), recall=(train=nan, test=nan), total=   0.1s\n",
      "[CV] C=0.01, penalty=l1 ..............................................\n"
     ]
    },
    {
     "name": "stderr",
     "output_type": "stream",
     "text": [
      "[Parallel(n_jobs=1)]: Using backend SequentialBackend with 1 concurrent workers.\n",
      "C:\\Users\\takay\\anaconda3\\lib\\site-packages\\sklearn\\model_selection\\_validation.py:548: FitFailedWarning: Estimator fit failed. The score on this train-test partition for these parameters will be set to nan. Details: \n",
      "Traceback (most recent call last):\n",
      "  File \"C:\\Users\\takay\\anaconda3\\lib\\site-packages\\sklearn\\model_selection\\_validation.py\", line 531, in _fit_and_score\n",
      "    estimator.fit(X_train, y_train, **fit_params)\n",
      "  File \"C:\\Users\\takay\\anaconda3\\lib\\site-packages\\sklearn\\linear_model\\_logistic.py\", line 1304, in fit\n",
      "    solver = _check_solver(self.solver, self.penalty, self.dual)\n",
      "  File \"C:\\Users\\takay\\anaconda3\\lib\\site-packages\\sklearn\\linear_model\\_logistic.py\", line 442, in _check_solver\n",
      "    raise ValueError(\"Solver %s supports only 'l2' or 'none' penalties, \"\n",
      "ValueError: Solver lbfgs supports only 'l2' or 'none' penalties, got l1 penalty.\n",
      "\n",
      "  warnings.warn(\"Estimator fit failed. The score on this train-test\"\n",
      "[Parallel(n_jobs=1)]: Done   1 out of   1 | elapsed:    0.1s remaining:    0.0s\n"
     ]
    },
    {
     "name": "stdout",
     "output_type": "stream",
     "text": [
      "[CV]  C=0.01, penalty=l1, accuracy=(train=nan, test=nan), f1=(train=nan, test=nan), precision=(train=nan, test=nan), recall=(train=nan, test=nan), total=   0.1s\n",
      "[CV] C=0.01, penalty=l1 ..............................................\n",
      "[CV]  C=0.01, penalty=l1, accuracy=(train=nan, test=nan), f1=(train=nan, test=nan), precision=(train=nan, test=nan), recall=(train=nan, test=nan), total=   0.1s"
     ]
    },
    {
     "name": "stderr",
     "output_type": "stream",
     "text": [
      "[Parallel(n_jobs=1)]: Done   2 out of   2 | elapsed:    0.3s remaining:    0.0s\n"
     ]
    },
    {
     "name": "stdout",
     "output_type": "stream",
     "text": [
      "\n",
      "[CV] C=0.01, penalty=l1 ..............................................\n",
      "[CV]  C=0.01, penalty=l1, accuracy=(train=nan, test=nan), f1=(train=nan, test=nan), precision=(train=nan, test=nan), recall=(train=nan, test=nan), total=   0.1s\n",
      "[CV] C=0.01, penalty=l1 ..............................................\n",
      "[CV]  C=0.01, penalty=l1, accuracy=(train=nan, test=nan), f1=(train=nan, test=nan), precision=(train=nan, test=nan), recall=(train=nan, test=nan), total=   0.1s\n",
      "[CV] C=0.01, penalty=l2 ..............................................\n"
     ]
    },
    {
     "name": "stderr",
     "output_type": "stream",
     "text": [
      "C:\\Users\\takay\\anaconda3\\lib\\site-packages\\sklearn\\utils\\validation.py:72: DataConversionWarning: A column-vector y was passed when a 1d array was expected. Please change the shape of y to (n_samples, ), for example using ravel().\n",
      "  return f(**kwargs)\n",
      "C:\\Users\\takay\\anaconda3\\lib\\site-packages\\sklearn\\linear_model\\_logistic.py:762: ConvergenceWarning: lbfgs failed to converge (status=1):\n",
      "STOP: TOTAL NO. of ITERATIONS REACHED LIMIT.\n",
      "\n",
      "Increase the number of iterations (max_iter) or scale the data as shown in:\n",
      "    https://scikit-learn.org/stable/modules/preprocessing.html\n",
      "Please also refer to the documentation for alternative solver options:\n",
      "    https://scikit-learn.org/stable/modules/linear_model.html#logistic-regression\n",
      "  n_iter_i = _check_optimize_result(\n"
     ]
    },
    {
     "name": "stdout",
     "output_type": "stream",
     "text": [
      "[CV]  C=0.01, penalty=l2, accuracy=(train=0.916, test=0.904), f1=(train=0.916, test=0.904), precision=(train=0.916, test=0.904), recall=(train=0.916, test=0.904), total=  18.5s\n",
      "[CV] C=0.01, penalty=l2 ..............................................\n"
     ]
    },
    {
     "name": "stderr",
     "output_type": "stream",
     "text": [
      "C:\\Users\\takay\\anaconda3\\lib\\site-packages\\sklearn\\utils\\validation.py:72: DataConversionWarning: A column-vector y was passed when a 1d array was expected. Please change the shape of y to (n_samples, ), for example using ravel().\n",
      "  return f(**kwargs)\n",
      "C:\\Users\\takay\\anaconda3\\lib\\site-packages\\sklearn\\linear_model\\_logistic.py:762: ConvergenceWarning: lbfgs failed to converge (status=1):\n",
      "STOP: TOTAL NO. of ITERATIONS REACHED LIMIT.\n",
      "\n",
      "Increase the number of iterations (max_iter) or scale the data as shown in:\n",
      "    https://scikit-learn.org/stable/modules/preprocessing.html\n",
      "Please also refer to the documentation for alternative solver options:\n",
      "    https://scikit-learn.org/stable/modules/linear_model.html#logistic-regression\n",
      "  n_iter_i = _check_optimize_result(\n"
     ]
    },
    {
     "name": "stdout",
     "output_type": "stream",
     "text": [
      "[CV]  C=0.01, penalty=l2, accuracy=(train=0.913, test=0.915), f1=(train=0.913, test=0.915), precision=(train=0.913, test=0.915), recall=(train=0.913, test=0.915), total=  18.9s\n",
      "[CV] C=0.01, penalty=l2 ..............................................\n"
     ]
    },
    {
     "name": "stderr",
     "output_type": "stream",
     "text": [
      "C:\\Users\\takay\\anaconda3\\lib\\site-packages\\sklearn\\utils\\validation.py:72: DataConversionWarning: A column-vector y was passed when a 1d array was expected. Please change the shape of y to (n_samples, ), for example using ravel().\n",
      "  return f(**kwargs)\n",
      "C:\\Users\\takay\\anaconda3\\lib\\site-packages\\sklearn\\linear_model\\_logistic.py:762: ConvergenceWarning: lbfgs failed to converge (status=1):\n",
      "STOP: TOTAL NO. of ITERATIONS REACHED LIMIT.\n",
      "\n",
      "Increase the number of iterations (max_iter) or scale the data as shown in:\n",
      "    https://scikit-learn.org/stable/modules/preprocessing.html\n",
      "Please also refer to the documentation for alternative solver options:\n",
      "    https://scikit-learn.org/stable/modules/linear_model.html#logistic-regression\n",
      "  n_iter_i = _check_optimize_result(\n"
     ]
    },
    {
     "name": "stdout",
     "output_type": "stream",
     "text": [
      "[CV]  C=0.01, penalty=l2, accuracy=(train=0.916, test=0.904), f1=(train=0.916, test=0.904), precision=(train=0.916, test=0.904), recall=(train=0.916, test=0.904), total=  18.7s\n",
      "[CV] C=0.01, penalty=l2 ..............................................\n"
     ]
    },
    {
     "name": "stderr",
     "output_type": "stream",
     "text": [
      "C:\\Users\\takay\\anaconda3\\lib\\site-packages\\sklearn\\utils\\validation.py:72: DataConversionWarning: A column-vector y was passed when a 1d array was expected. Please change the shape of y to (n_samples, ), for example using ravel().\n",
      "  return f(**kwargs)\n",
      "C:\\Users\\takay\\anaconda3\\lib\\site-packages\\sklearn\\linear_model\\_logistic.py:762: ConvergenceWarning: lbfgs failed to converge (status=1):\n",
      "STOP: TOTAL NO. of ITERATIONS REACHED LIMIT.\n",
      "\n",
      "Increase the number of iterations (max_iter) or scale the data as shown in:\n",
      "    https://scikit-learn.org/stable/modules/preprocessing.html\n",
      "Please also refer to the documentation for alternative solver options:\n",
      "    https://scikit-learn.org/stable/modules/linear_model.html#logistic-regression\n",
      "  n_iter_i = _check_optimize_result(\n"
     ]
    },
    {
     "name": "stdout",
     "output_type": "stream",
     "text": [
      "[CV]  C=0.01, penalty=l2, accuracy=(train=0.915, test=0.909), f1=(train=0.915, test=0.909), precision=(train=0.915, test=0.909), recall=(train=0.915, test=0.909), total=  18.1s\n",
      "[CV] C=0.01, penalty=l2 ..............................................\n"
     ]
    },
    {
     "name": "stderr",
     "output_type": "stream",
     "text": [
      "C:\\Users\\takay\\anaconda3\\lib\\site-packages\\sklearn\\utils\\validation.py:72: DataConversionWarning: A column-vector y was passed when a 1d array was expected. Please change the shape of y to (n_samples, ), for example using ravel().\n",
      "  return f(**kwargs)\n",
      "C:\\Users\\takay\\anaconda3\\lib\\site-packages\\sklearn\\linear_model\\_logistic.py:762: ConvergenceWarning: lbfgs failed to converge (status=1):\n",
      "STOP: TOTAL NO. of ITERATIONS REACHED LIMIT.\n",
      "\n",
      "Increase the number of iterations (max_iter) or scale the data as shown in:\n",
      "    https://scikit-learn.org/stable/modules/preprocessing.html\n",
      "Please also refer to the documentation for alternative solver options:\n",
      "    https://scikit-learn.org/stable/modules/linear_model.html#logistic-regression\n",
      "  n_iter_i = _check_optimize_result(\n"
     ]
    },
    {
     "name": "stdout",
     "output_type": "stream",
     "text": [
      "[CV]  C=0.01, penalty=l2, accuracy=(train=0.915, test=0.916), f1=(train=0.915, test=0.916), precision=(train=0.915, test=0.916), recall=(train=0.915, test=0.916), total=  18.5s\n",
      "[CV] C=0.1, penalty=l1 ...............................................\n",
      "[CV]  C=0.1, penalty=l1, accuracy=(train=nan, test=nan), f1=(train=nan, test=nan), precision=(train=nan, test=nan), recall=(train=nan, test=nan), total=   0.1s\n",
      "[CV] C=0.1, penalty=l1 ...............................................\n"
     ]
    },
    {
     "name": "stderr",
     "output_type": "stream",
     "text": [
      "C:\\Users\\takay\\anaconda3\\lib\\site-packages\\sklearn\\model_selection\\_validation.py:548: FitFailedWarning: Estimator fit failed. The score on this train-test partition for these parameters will be set to nan. Details: \n",
      "Traceback (most recent call last):\n",
      "  File \"C:\\Users\\takay\\anaconda3\\lib\\site-packages\\sklearn\\model_selection\\_validation.py\", line 531, in _fit_and_score\n",
      "    estimator.fit(X_train, y_train, **fit_params)\n",
      "  File \"C:\\Users\\takay\\anaconda3\\lib\\site-packages\\sklearn\\linear_model\\_logistic.py\", line 1304, in fit\n",
      "    solver = _check_solver(self.solver, self.penalty, self.dual)\n",
      "  File \"C:\\Users\\takay\\anaconda3\\lib\\site-packages\\sklearn\\linear_model\\_logistic.py\", line 442, in _check_solver\n",
      "    raise ValueError(\"Solver %s supports only 'l2' or 'none' penalties, \"\n",
      "ValueError: Solver lbfgs supports only 'l2' or 'none' penalties, got l1 penalty.\n",
      "\n",
      "  warnings.warn(\"Estimator fit failed. The score on this train-test\"\n"
     ]
    },
    {
     "name": "stdout",
     "output_type": "stream",
     "text": [
      "[CV]  C=0.1, penalty=l1, accuracy=(train=nan, test=nan), f1=(train=nan, test=nan), precision=(train=nan, test=nan), recall=(train=nan, test=nan), total=   0.1s\n",
      "[CV] C=0.1, penalty=l1 ...............................................\n",
      "[CV]  C=0.1, penalty=l1, accuracy=(train=nan, test=nan), f1=(train=nan, test=nan), precision=(train=nan, test=nan), recall=(train=nan, test=nan), total=   0.1s\n",
      "[CV] C=0.1, penalty=l1 ...............................................\n",
      "[CV]  C=0.1, penalty=l1, accuracy=(train=nan, test=nan), f1=(train=nan, test=nan), precision=(train=nan, test=nan), recall=(train=nan, test=nan), total=   0.1s\n",
      "[CV] C=0.1, penalty=l1 ...............................................\n",
      "[CV]  C=0.1, penalty=l1, accuracy=(train=nan, test=nan), f1=(train=nan, test=nan), precision=(train=nan, test=nan), recall=(train=nan, test=nan), total=   0.1s\n",
      "[CV] C=0.1, penalty=l2 ...............................................\n"
     ]
    },
    {
     "name": "stderr",
     "output_type": "stream",
     "text": [
      "C:\\Users\\takay\\anaconda3\\lib\\site-packages\\sklearn\\utils\\validation.py:72: DataConversionWarning: A column-vector y was passed when a 1d array was expected. Please change the shape of y to (n_samples, ), for example using ravel().\n",
      "  return f(**kwargs)\n",
      "C:\\Users\\takay\\anaconda3\\lib\\site-packages\\sklearn\\linear_model\\_logistic.py:762: ConvergenceWarning: lbfgs failed to converge (status=1):\n",
      "STOP: TOTAL NO. of ITERATIONS REACHED LIMIT.\n",
      "\n",
      "Increase the number of iterations (max_iter) or scale the data as shown in:\n",
      "    https://scikit-learn.org/stable/modules/preprocessing.html\n",
      "Please also refer to the documentation for alternative solver options:\n",
      "    https://scikit-learn.org/stable/modules/linear_model.html#logistic-regression\n",
      "  n_iter_i = _check_optimize_result(\n"
     ]
    },
    {
     "name": "stdout",
     "output_type": "stream",
     "text": [
      "[CV]  C=0.1, penalty=l2, accuracy=(train=0.934, test=0.916), f1=(train=0.934, test=0.916), precision=(train=0.934, test=0.916), recall=(train=0.934, test=0.916), total=  18.6s\n",
      "[CV] C=0.1, penalty=l2 ...............................................\n"
     ]
    },
    {
     "name": "stderr",
     "output_type": "stream",
     "text": [
      "C:\\Users\\takay\\anaconda3\\lib\\site-packages\\sklearn\\utils\\validation.py:72: DataConversionWarning: A column-vector y was passed when a 1d array was expected. Please change the shape of y to (n_samples, ), for example using ravel().\n",
      "  return f(**kwargs)\n",
      "C:\\Users\\takay\\anaconda3\\lib\\site-packages\\sklearn\\linear_model\\_logistic.py:762: ConvergenceWarning: lbfgs failed to converge (status=1):\n",
      "STOP: TOTAL NO. of ITERATIONS REACHED LIMIT.\n",
      "\n",
      "Increase the number of iterations (max_iter) or scale the data as shown in:\n",
      "    https://scikit-learn.org/stable/modules/preprocessing.html\n",
      "Please also refer to the documentation for alternative solver options:\n",
      "    https://scikit-learn.org/stable/modules/linear_model.html#logistic-regression\n",
      "  n_iter_i = _check_optimize_result(\n"
     ]
    },
    {
     "name": "stdout",
     "output_type": "stream",
     "text": [
      "[CV]  C=0.1, penalty=l2, accuracy=(train=0.934, test=0.922), f1=(train=0.934, test=0.922), precision=(train=0.934, test=0.922), recall=(train=0.934, test=0.922), total=  18.7s\n",
      "[CV] C=0.1, penalty=l2 ...............................................\n"
     ]
    },
    {
     "name": "stderr",
     "output_type": "stream",
     "text": [
      "C:\\Users\\takay\\anaconda3\\lib\\site-packages\\sklearn\\utils\\validation.py:72: DataConversionWarning: A column-vector y was passed when a 1d array was expected. Please change the shape of y to (n_samples, ), for example using ravel().\n",
      "  return f(**kwargs)\n",
      "C:\\Users\\takay\\anaconda3\\lib\\site-packages\\sklearn\\linear_model\\_logistic.py:762: ConvergenceWarning: lbfgs failed to converge (status=1):\n",
      "STOP: TOTAL NO. of ITERATIONS REACHED LIMIT.\n",
      "\n",
      "Increase the number of iterations (max_iter) or scale the data as shown in:\n",
      "    https://scikit-learn.org/stable/modules/preprocessing.html\n",
      "Please also refer to the documentation for alternative solver options:\n",
      "    https://scikit-learn.org/stable/modules/linear_model.html#logistic-regression\n",
      "  n_iter_i = _check_optimize_result(\n"
     ]
    },
    {
     "name": "stdout",
     "output_type": "stream",
     "text": [
      "[CV]  C=0.1, penalty=l2, accuracy=(train=0.935, test=0.915), f1=(train=0.935, test=0.915), precision=(train=0.935, test=0.915), recall=(train=0.935, test=0.915), total=  18.9s\n",
      "[CV] C=0.1, penalty=l2 ...............................................\n"
     ]
    },
    {
     "name": "stderr",
     "output_type": "stream",
     "text": [
      "C:\\Users\\takay\\anaconda3\\lib\\site-packages\\sklearn\\utils\\validation.py:72: DataConversionWarning: A column-vector y was passed when a 1d array was expected. Please change the shape of y to (n_samples, ), for example using ravel().\n",
      "  return f(**kwargs)\n",
      "C:\\Users\\takay\\anaconda3\\lib\\site-packages\\sklearn\\linear_model\\_logistic.py:762: ConvergenceWarning: lbfgs failed to converge (status=1):\n",
      "STOP: TOTAL NO. of ITERATIONS REACHED LIMIT.\n",
      "\n",
      "Increase the number of iterations (max_iter) or scale the data as shown in:\n",
      "    https://scikit-learn.org/stable/modules/preprocessing.html\n",
      "Please also refer to the documentation for alternative solver options:\n",
      "    https://scikit-learn.org/stable/modules/linear_model.html#logistic-regression\n",
      "  n_iter_i = _check_optimize_result(\n"
     ]
    },
    {
     "name": "stdout",
     "output_type": "stream",
     "text": [
      "[CV]  C=0.1, penalty=l2, accuracy=(train=0.934, test=0.920), f1=(train=0.934, test=0.920), precision=(train=0.934, test=0.920), recall=(train=0.934, test=0.920), total=  19.2s\n",
      "[CV] C=0.1, penalty=l2 ...............................................\n"
     ]
    },
    {
     "name": "stderr",
     "output_type": "stream",
     "text": [
      "C:\\Users\\takay\\anaconda3\\lib\\site-packages\\sklearn\\utils\\validation.py:72: DataConversionWarning: A column-vector y was passed when a 1d array was expected. Please change the shape of y to (n_samples, ), for example using ravel().\n",
      "  return f(**kwargs)\n",
      "C:\\Users\\takay\\anaconda3\\lib\\site-packages\\sklearn\\linear_model\\_logistic.py:762: ConvergenceWarning: lbfgs failed to converge (status=1):\n",
      "STOP: TOTAL NO. of ITERATIONS REACHED LIMIT.\n",
      "\n",
      "Increase the number of iterations (max_iter) or scale the data as shown in:\n",
      "    https://scikit-learn.org/stable/modules/preprocessing.html\n",
      "Please also refer to the documentation for alternative solver options:\n",
      "    https://scikit-learn.org/stable/modules/linear_model.html#logistic-regression\n",
      "  n_iter_i = _check_optimize_result(\n"
     ]
    },
    {
     "name": "stdout",
     "output_type": "stream",
     "text": [
      "[CV]  C=0.1, penalty=l2, accuracy=(train=0.934, test=0.924), f1=(train=0.934, test=0.924), precision=(train=0.934, test=0.924), recall=(train=0.934, test=0.924), total=  19.2s\n",
      "[CV] C=0.5, penalty=l1 ...............................................\n",
      "[CV]  C=0.5, penalty=l1, accuracy=(train=nan, test=nan), f1=(train=nan, test=nan), precision=(train=nan, test=nan), recall=(train=nan, test=nan), total=   0.1s\n",
      "[CV] C=0.5, penalty=l1 ...............................................\n"
     ]
    },
    {
     "name": "stderr",
     "output_type": "stream",
     "text": [
      "C:\\Users\\takay\\anaconda3\\lib\\site-packages\\sklearn\\model_selection\\_validation.py:548: FitFailedWarning: Estimator fit failed. The score on this train-test partition for these parameters will be set to nan. Details: \n",
      "Traceback (most recent call last):\n",
      "  File \"C:\\Users\\takay\\anaconda3\\lib\\site-packages\\sklearn\\model_selection\\_validation.py\", line 531, in _fit_and_score\n",
      "    estimator.fit(X_train, y_train, **fit_params)\n",
      "  File \"C:\\Users\\takay\\anaconda3\\lib\\site-packages\\sklearn\\linear_model\\_logistic.py\", line 1304, in fit\n",
      "    solver = _check_solver(self.solver, self.penalty, self.dual)\n",
      "  File \"C:\\Users\\takay\\anaconda3\\lib\\site-packages\\sklearn\\linear_model\\_logistic.py\", line 442, in _check_solver\n",
      "    raise ValueError(\"Solver %s supports only 'l2' or 'none' penalties, \"\n",
      "ValueError: Solver lbfgs supports only 'l2' or 'none' penalties, got l1 penalty.\n",
      "\n",
      "  warnings.warn(\"Estimator fit failed. The score on this train-test\"\n"
     ]
    },
    {
     "name": "stdout",
     "output_type": "stream",
     "text": [
      "[CV]  C=0.5, penalty=l1, accuracy=(train=nan, test=nan), f1=(train=nan, test=nan), precision=(train=nan, test=nan), recall=(train=nan, test=nan), total=   0.1s\n",
      "[CV] C=0.5, penalty=l1 ...............................................\n",
      "[CV]  C=0.5, penalty=l1, accuracy=(train=nan, test=nan), f1=(train=nan, test=nan), precision=(train=nan, test=nan), recall=(train=nan, test=nan), total=   0.1s\n",
      "[CV] C=0.5, penalty=l1 ...............................................\n",
      "[CV]  C=0.5, penalty=l1, accuracy=(train=nan, test=nan), f1=(train=nan, test=nan), precision=(train=nan, test=nan), recall=(train=nan, test=nan), total=   0.1s\n",
      "[CV] C=0.5, penalty=l1 ...............................................\n",
      "[CV]  C=0.5, penalty=l1, accuracy=(train=nan, test=nan), f1=(train=nan, test=nan), precision=(train=nan, test=nan), recall=(train=nan, test=nan), total=   0.1s\n",
      "[CV] C=0.5, penalty=l2 ...............................................\n"
     ]
    },
    {
     "name": "stderr",
     "output_type": "stream",
     "text": [
      "C:\\Users\\takay\\anaconda3\\lib\\site-packages\\sklearn\\utils\\validation.py:72: DataConversionWarning: A column-vector y was passed when a 1d array was expected. Please change the shape of y to (n_samples, ), for example using ravel().\n",
      "  return f(**kwargs)\n",
      "C:\\Users\\takay\\anaconda3\\lib\\site-packages\\sklearn\\linear_model\\_logistic.py:762: ConvergenceWarning: lbfgs failed to converge (status=1):\n",
      "STOP: TOTAL NO. of ITERATIONS REACHED LIMIT.\n",
      "\n",
      "Increase the number of iterations (max_iter) or scale the data as shown in:\n",
      "    https://scikit-learn.org/stable/modules/preprocessing.html\n",
      "Please also refer to the documentation for alternative solver options:\n",
      "    https://scikit-learn.org/stable/modules/linear_model.html#logistic-regression\n",
      "  n_iter_i = _check_optimize_result(\n"
     ]
    },
    {
     "name": "stdout",
     "output_type": "stream",
     "text": [
      "[CV]  C=0.5, penalty=l2, accuracy=(train=0.940, test=0.918), f1=(train=0.940, test=0.918), precision=(train=0.940, test=0.918), recall=(train=0.940, test=0.918), total=  19.2s\n",
      "[CV] C=0.5, penalty=l2 ...............................................\n"
     ]
    },
    {
     "name": "stderr",
     "output_type": "stream",
     "text": [
      "C:\\Users\\takay\\anaconda3\\lib\\site-packages\\sklearn\\utils\\validation.py:72: DataConversionWarning: A column-vector y was passed when a 1d array was expected. Please change the shape of y to (n_samples, ), for example using ravel().\n",
      "  return f(**kwargs)\n",
      "C:\\Users\\takay\\anaconda3\\lib\\site-packages\\sklearn\\linear_model\\_logistic.py:762: ConvergenceWarning: lbfgs failed to converge (status=1):\n",
      "STOP: TOTAL NO. of ITERATIONS REACHED LIMIT.\n",
      "\n",
      "Increase the number of iterations (max_iter) or scale the data as shown in:\n",
      "    https://scikit-learn.org/stable/modules/preprocessing.html\n",
      "Please also refer to the documentation for alternative solver options:\n",
      "    https://scikit-learn.org/stable/modules/linear_model.html#logistic-regression\n",
      "  n_iter_i = _check_optimize_result(\n"
     ]
    },
    {
     "name": "stdout",
     "output_type": "stream",
     "text": [
      "[CV]  C=0.5, penalty=l2, accuracy=(train=0.940, test=0.921), f1=(train=0.940, test=0.921), precision=(train=0.940, test=0.921), recall=(train=0.940, test=0.921), total=  19.8s\n",
      "[CV] C=0.5, penalty=l2 ...............................................\n"
     ]
    },
    {
     "name": "stderr",
     "output_type": "stream",
     "text": [
      "C:\\Users\\takay\\anaconda3\\lib\\site-packages\\sklearn\\utils\\validation.py:72: DataConversionWarning: A column-vector y was passed when a 1d array was expected. Please change the shape of y to (n_samples, ), for example using ravel().\n",
      "  return f(**kwargs)\n",
      "C:\\Users\\takay\\anaconda3\\lib\\site-packages\\sklearn\\linear_model\\_logistic.py:762: ConvergenceWarning: lbfgs failed to converge (status=1):\n",
      "STOP: TOTAL NO. of ITERATIONS REACHED LIMIT.\n",
      "\n",
      "Increase the number of iterations (max_iter) or scale the data as shown in:\n",
      "    https://scikit-learn.org/stable/modules/preprocessing.html\n",
      "Please also refer to the documentation for alternative solver options:\n",
      "    https://scikit-learn.org/stable/modules/linear_model.html#logistic-regression\n",
      "  n_iter_i = _check_optimize_result(\n"
     ]
    },
    {
     "name": "stdout",
     "output_type": "stream",
     "text": [
      "[CV]  C=0.5, penalty=l2, accuracy=(train=0.942, test=0.915), f1=(train=0.942, test=0.915), precision=(train=0.942, test=0.915), recall=(train=0.942, test=0.915), total=  20.1s\n",
      "[CV] C=0.5, penalty=l2 ...............................................\n"
     ]
    },
    {
     "name": "stderr",
     "output_type": "stream",
     "text": [
      "C:\\Users\\takay\\anaconda3\\lib\\site-packages\\sklearn\\utils\\validation.py:72: DataConversionWarning: A column-vector y was passed when a 1d array was expected. Please change the shape of y to (n_samples, ), for example using ravel().\n",
      "  return f(**kwargs)\n",
      "C:\\Users\\takay\\anaconda3\\lib\\site-packages\\sklearn\\linear_model\\_logistic.py:762: ConvergenceWarning: lbfgs failed to converge (status=1):\n",
      "STOP: TOTAL NO. of ITERATIONS REACHED LIMIT.\n",
      "\n",
      "Increase the number of iterations (max_iter) or scale the data as shown in:\n",
      "    https://scikit-learn.org/stable/modules/preprocessing.html\n",
      "Please also refer to the documentation for alternative solver options:\n",
      "    https://scikit-learn.org/stable/modules/linear_model.html#logistic-regression\n",
      "  n_iter_i = _check_optimize_result(\n"
     ]
    },
    {
     "name": "stdout",
     "output_type": "stream",
     "text": [
      "[CV]  C=0.5, penalty=l2, accuracy=(train=0.941, test=0.918), f1=(train=0.941, test=0.918), precision=(train=0.941, test=0.918), recall=(train=0.941, test=0.918), total=  19.3s\n",
      "[CV] C=0.5, penalty=l2 ...............................................\n"
     ]
    },
    {
     "name": "stderr",
     "output_type": "stream",
     "text": [
      "C:\\Users\\takay\\anaconda3\\lib\\site-packages\\sklearn\\utils\\validation.py:72: DataConversionWarning: A column-vector y was passed when a 1d array was expected. Please change the shape of y to (n_samples, ), for example using ravel().\n",
      "  return f(**kwargs)\n",
      "C:\\Users\\takay\\anaconda3\\lib\\site-packages\\sklearn\\linear_model\\_logistic.py:762: ConvergenceWarning: lbfgs failed to converge (status=1):\n",
      "STOP: TOTAL NO. of ITERATIONS REACHED LIMIT.\n",
      "\n",
      "Increase the number of iterations (max_iter) or scale the data as shown in:\n",
      "    https://scikit-learn.org/stable/modules/preprocessing.html\n",
      "Please also refer to the documentation for alternative solver options:\n",
      "    https://scikit-learn.org/stable/modules/linear_model.html#logistic-regression\n",
      "  n_iter_i = _check_optimize_result(\n"
     ]
    },
    {
     "name": "stdout",
     "output_type": "stream",
     "text": [
      "[CV]  C=0.5, penalty=l2, accuracy=(train=0.941, test=0.924), f1=(train=0.941, test=0.924), precision=(train=0.941, test=0.924), recall=(train=0.941, test=0.924), total=  19.4s\n",
      "[CV] C=1.0, penalty=l1 ...............................................\n",
      "[CV]  C=1.0, penalty=l1, accuracy=(train=nan, test=nan), f1=(train=nan, test=nan), precision=(train=nan, test=nan), recall=(train=nan, test=nan), total=   0.1s\n",
      "[CV] C=1.0, penalty=l1 ..............................................."
     ]
    },
    {
     "name": "stderr",
     "output_type": "stream",
     "text": [
      "C:\\Users\\takay\\anaconda3\\lib\\site-packages\\sklearn\\model_selection\\_validation.py:548: FitFailedWarning: Estimator fit failed. The score on this train-test partition for these parameters will be set to nan. Details: \n",
      "Traceback (most recent call last):\n",
      "  File \"C:\\Users\\takay\\anaconda3\\lib\\site-packages\\sklearn\\model_selection\\_validation.py\", line 531, in _fit_and_score\n",
      "    estimator.fit(X_train, y_train, **fit_params)\n",
      "  File \"C:\\Users\\takay\\anaconda3\\lib\\site-packages\\sklearn\\linear_model\\_logistic.py\", line 1304, in fit\n",
      "    solver = _check_solver(self.solver, self.penalty, self.dual)\n",
      "  File \"C:\\Users\\takay\\anaconda3\\lib\\site-packages\\sklearn\\linear_model\\_logistic.py\", line 442, in _check_solver\n",
      "    raise ValueError(\"Solver %s supports only 'l2' or 'none' penalties, \"\n",
      "ValueError: Solver lbfgs supports only 'l2' or 'none' penalties, got l1 penalty.\n",
      "\n",
      "  warnings.warn(\"Estimator fit failed. The score on this train-test\"\n"
     ]
    },
    {
     "name": "stdout",
     "output_type": "stream",
     "text": [
      "\n",
      "[CV]  C=1.0, penalty=l1, accuracy=(train=nan, test=nan), f1=(train=nan, test=nan), precision=(train=nan, test=nan), recall=(train=nan, test=nan), total=   0.1s\n",
      "[CV] C=1.0, penalty=l1 ...............................................\n",
      "[CV]  C=1.0, penalty=l1, accuracy=(train=nan, test=nan), f1=(train=nan, test=nan), precision=(train=nan, test=nan), recall=(train=nan, test=nan), total=   0.1s\n",
      "[CV] C=1.0, penalty=l1 ...............................................\n",
      "[CV]  C=1.0, penalty=l1, accuracy=(train=nan, test=nan), f1=(train=nan, test=nan), precision=(train=nan, test=nan), recall=(train=nan, test=nan), total=   0.1s\n",
      "[CV] C=1.0, penalty=l1 ...............................................\n",
      "[CV]  C=1.0, penalty=l1, accuracy=(train=nan, test=nan), f1=(train=nan, test=nan), precision=(train=nan, test=nan), recall=(train=nan, test=nan), total=   0.1s\n",
      "[CV] C=1.0, penalty=l2 ...............................................\n"
     ]
    },
    {
     "name": "stderr",
     "output_type": "stream",
     "text": [
      "C:\\Users\\takay\\anaconda3\\lib\\site-packages\\sklearn\\utils\\validation.py:72: DataConversionWarning: A column-vector y was passed when a 1d array was expected. Please change the shape of y to (n_samples, ), for example using ravel().\n",
      "  return f(**kwargs)\n",
      "C:\\Users\\takay\\anaconda3\\lib\\site-packages\\sklearn\\linear_model\\_logistic.py:762: ConvergenceWarning: lbfgs failed to converge (status=1):\n",
      "STOP: TOTAL NO. of ITERATIONS REACHED LIMIT.\n",
      "\n",
      "Increase the number of iterations (max_iter) or scale the data as shown in:\n",
      "    https://scikit-learn.org/stable/modules/preprocessing.html\n",
      "Please also refer to the documentation for alternative solver options:\n",
      "    https://scikit-learn.org/stable/modules/linear_model.html#logistic-regression\n",
      "  n_iter_i = _check_optimize_result(\n"
     ]
    },
    {
     "name": "stdout",
     "output_type": "stream",
     "text": [
      "[CV]  C=1.0, penalty=l2, accuracy=(train=0.941, test=0.918), f1=(train=0.941, test=0.918), precision=(train=0.941, test=0.918), recall=(train=0.941, test=0.918), total=  20.3s\n",
      "[CV] C=1.0, penalty=l2 ...............................................\n"
     ]
    },
    {
     "name": "stderr",
     "output_type": "stream",
     "text": [
      "C:\\Users\\takay\\anaconda3\\lib\\site-packages\\sklearn\\utils\\validation.py:72: DataConversionWarning: A column-vector y was passed when a 1d array was expected. Please change the shape of y to (n_samples, ), for example using ravel().\n",
      "  return f(**kwargs)\n",
      "C:\\Users\\takay\\anaconda3\\lib\\site-packages\\sklearn\\linear_model\\_logistic.py:762: ConvergenceWarning: lbfgs failed to converge (status=1):\n",
      "STOP: TOTAL NO. of ITERATIONS REACHED LIMIT.\n",
      "\n",
      "Increase the number of iterations (max_iter) or scale the data as shown in:\n",
      "    https://scikit-learn.org/stable/modules/preprocessing.html\n",
      "Please also refer to the documentation for alternative solver options:\n",
      "    https://scikit-learn.org/stable/modules/linear_model.html#logistic-regression\n",
      "  n_iter_i = _check_optimize_result(\n"
     ]
    },
    {
     "name": "stdout",
     "output_type": "stream",
     "text": [
      "[CV]  C=1.0, penalty=l2, accuracy=(train=0.942, test=0.920), f1=(train=0.942, test=0.920), precision=(train=0.942, test=0.920), recall=(train=0.942, test=0.920), total=  19.2s\n",
      "[CV] C=1.0, penalty=l2 ...............................................\n"
     ]
    },
    {
     "name": "stderr",
     "output_type": "stream",
     "text": [
      "C:\\Users\\takay\\anaconda3\\lib\\site-packages\\sklearn\\utils\\validation.py:72: DataConversionWarning: A column-vector y was passed when a 1d array was expected. Please change the shape of y to (n_samples, ), for example using ravel().\n",
      "  return f(**kwargs)\n",
      "C:\\Users\\takay\\anaconda3\\lib\\site-packages\\sklearn\\linear_model\\_logistic.py:762: ConvergenceWarning: lbfgs failed to converge (status=1):\n",
      "STOP: TOTAL NO. of ITERATIONS REACHED LIMIT.\n",
      "\n",
      "Increase the number of iterations (max_iter) or scale the data as shown in:\n",
      "    https://scikit-learn.org/stable/modules/preprocessing.html\n",
      "Please also refer to the documentation for alternative solver options:\n",
      "    https://scikit-learn.org/stable/modules/linear_model.html#logistic-regression\n",
      "  n_iter_i = _check_optimize_result(\n"
     ]
    },
    {
     "name": "stdout",
     "output_type": "stream",
     "text": [
      "[CV]  C=1.0, penalty=l2, accuracy=(train=0.943, test=0.914), f1=(train=0.943, test=0.914), precision=(train=0.943, test=0.914), recall=(train=0.943, test=0.914), total=  18.2s\n",
      "[CV] C=1.0, penalty=l2 ...............................................\n"
     ]
    },
    {
     "name": "stderr",
     "output_type": "stream",
     "text": [
      "C:\\Users\\takay\\anaconda3\\lib\\site-packages\\sklearn\\utils\\validation.py:72: DataConversionWarning: A column-vector y was passed when a 1d array was expected. Please change the shape of y to (n_samples, ), for example using ravel().\n",
      "  return f(**kwargs)\n",
      "C:\\Users\\takay\\anaconda3\\lib\\site-packages\\sklearn\\linear_model\\_logistic.py:762: ConvergenceWarning: lbfgs failed to converge (status=1):\n",
      "STOP: TOTAL NO. of ITERATIONS REACHED LIMIT.\n",
      "\n",
      "Increase the number of iterations (max_iter) or scale the data as shown in:\n",
      "    https://scikit-learn.org/stable/modules/preprocessing.html\n",
      "Please also refer to the documentation for alternative solver options:\n",
      "    https://scikit-learn.org/stable/modules/linear_model.html#logistic-regression\n",
      "  n_iter_i = _check_optimize_result(\n"
     ]
    },
    {
     "name": "stdout",
     "output_type": "stream",
     "text": [
      "[CV]  C=1.0, penalty=l2, accuracy=(train=0.942, test=0.917), f1=(train=0.942, test=0.917), precision=(train=0.942, test=0.917), recall=(train=0.942, test=0.917), total=  18.7s\n",
      "[CV] C=1.0, penalty=l2 ...............................................\n"
     ]
    },
    {
     "name": "stderr",
     "output_type": "stream",
     "text": [
      "C:\\Users\\takay\\anaconda3\\lib\\site-packages\\sklearn\\utils\\validation.py:72: DataConversionWarning: A column-vector y was passed when a 1d array was expected. Please change the shape of y to (n_samples, ), for example using ravel().\n",
      "  return f(**kwargs)\n",
      "C:\\Users\\takay\\anaconda3\\lib\\site-packages\\sklearn\\linear_model\\_logistic.py:762: ConvergenceWarning: lbfgs failed to converge (status=1):\n",
      "STOP: TOTAL NO. of ITERATIONS REACHED LIMIT.\n",
      "\n",
      "Increase the number of iterations (max_iter) or scale the data as shown in:\n",
      "    https://scikit-learn.org/stable/modules/preprocessing.html\n",
      "Please also refer to the documentation for alternative solver options:\n",
      "    https://scikit-learn.org/stable/modules/linear_model.html#logistic-regression\n",
      "  n_iter_i = _check_optimize_result(\n"
     ]
    },
    {
     "name": "stdout",
     "output_type": "stream",
     "text": [
      "[CV]  C=1.0, penalty=l2, accuracy=(train=0.941, test=0.924), f1=(train=0.941, test=0.924), precision=(train=0.941, test=0.924), recall=(train=0.941, test=0.924), total=  18.7s\n",
      "[CV] C=1.5, penalty=l1 ...............................................\n",
      "[CV]  C=1.5, penalty=l1, accuracy=(train=nan, test=nan), f1=(train=nan, test=nan), precision=(train=nan, test=nan), recall=(train=nan, test=nan), total=   0.1s\n",
      "[CV] C=1.5, penalty=l1 ...............................................\n"
     ]
    },
    {
     "name": "stderr",
     "output_type": "stream",
     "text": [
      "C:\\Users\\takay\\anaconda3\\lib\\site-packages\\sklearn\\model_selection\\_validation.py:548: FitFailedWarning: Estimator fit failed. The score on this train-test partition for these parameters will be set to nan. Details: \n",
      "Traceback (most recent call last):\n",
      "  File \"C:\\Users\\takay\\anaconda3\\lib\\site-packages\\sklearn\\model_selection\\_validation.py\", line 531, in _fit_and_score\n",
      "    estimator.fit(X_train, y_train, **fit_params)\n",
      "  File \"C:\\Users\\takay\\anaconda3\\lib\\site-packages\\sklearn\\linear_model\\_logistic.py\", line 1304, in fit\n",
      "    solver = _check_solver(self.solver, self.penalty, self.dual)\n",
      "  File \"C:\\Users\\takay\\anaconda3\\lib\\site-packages\\sklearn\\linear_model\\_logistic.py\", line 442, in _check_solver\n",
      "    raise ValueError(\"Solver %s supports only 'l2' or 'none' penalties, \"\n",
      "ValueError: Solver lbfgs supports only 'l2' or 'none' penalties, got l1 penalty.\n",
      "\n",
      "  warnings.warn(\"Estimator fit failed. The score on this train-test\"\n"
     ]
    },
    {
     "name": "stdout",
     "output_type": "stream",
     "text": [
      "[CV]  C=1.5, penalty=l1, accuracy=(train=nan, test=nan), f1=(train=nan, test=nan), precision=(train=nan, test=nan), recall=(train=nan, test=nan), total=   0.1s\n",
      "[CV] C=1.5, penalty=l1 ...............................................\n",
      "[CV]  C=1.5, penalty=l1, accuracy=(train=nan, test=nan), f1=(train=nan, test=nan), precision=(train=nan, test=nan), recall=(train=nan, test=nan), total=   0.1s\n",
      "[CV] C=1.5, penalty=l1 ...............................................\n",
      "[CV]  C=1.5, penalty=l1, accuracy=(train=nan, test=nan), f1=(train=nan, test=nan), precision=(train=nan, test=nan), recall=(train=nan, test=nan), total=   0.1s\n",
      "[CV] C=1.5, penalty=l1 ...............................................\n",
      "[CV]  C=1.5, penalty=l1, accuracy=(train=nan, test=nan), f1=(train=nan, test=nan), precision=(train=nan, test=nan), recall=(train=nan, test=nan), total=   0.1s\n",
      "[CV] C=1.5, penalty=l2 ...............................................\n"
     ]
    },
    {
     "name": "stderr",
     "output_type": "stream",
     "text": [
      "C:\\Users\\takay\\anaconda3\\lib\\site-packages\\sklearn\\utils\\validation.py:72: DataConversionWarning: A column-vector y was passed when a 1d array was expected. Please change the shape of y to (n_samples, ), for example using ravel().\n",
      "  return f(**kwargs)\n",
      "C:\\Users\\takay\\anaconda3\\lib\\site-packages\\sklearn\\linear_model\\_logistic.py:762: ConvergenceWarning: lbfgs failed to converge (status=1):\n",
      "STOP: TOTAL NO. of ITERATIONS REACHED LIMIT.\n",
      "\n",
      "Increase the number of iterations (max_iter) or scale the data as shown in:\n",
      "    https://scikit-learn.org/stable/modules/preprocessing.html\n",
      "Please also refer to the documentation for alternative solver options:\n",
      "    https://scikit-learn.org/stable/modules/linear_model.html#logistic-regression\n",
      "  n_iter_i = _check_optimize_result(\n"
     ]
    },
    {
     "name": "stdout",
     "output_type": "stream",
     "text": [
      "[CV]  C=1.5, penalty=l2, accuracy=(train=0.942, test=0.918), f1=(train=0.942, test=0.918), precision=(train=0.942, test=0.918), recall=(train=0.942, test=0.918), total=  19.4s\n",
      "[CV] C=1.5, penalty=l2 ...............................................\n"
     ]
    },
    {
     "name": "stderr",
     "output_type": "stream",
     "text": [
      "C:\\Users\\takay\\anaconda3\\lib\\site-packages\\sklearn\\utils\\validation.py:72: DataConversionWarning: A column-vector y was passed when a 1d array was expected. Please change the shape of y to (n_samples, ), for example using ravel().\n",
      "  return f(**kwargs)\n",
      "C:\\Users\\takay\\anaconda3\\lib\\site-packages\\sklearn\\linear_model\\_logistic.py:762: ConvergenceWarning: lbfgs failed to converge (status=1):\n",
      "STOP: TOTAL NO. of ITERATIONS REACHED LIMIT.\n",
      "\n",
      "Increase the number of iterations (max_iter) or scale the data as shown in:\n",
      "    https://scikit-learn.org/stable/modules/preprocessing.html\n",
      "Please also refer to the documentation for alternative solver options:\n",
      "    https://scikit-learn.org/stable/modules/linear_model.html#logistic-regression\n",
      "  n_iter_i = _check_optimize_result(\n"
     ]
    },
    {
     "name": "stdout",
     "output_type": "stream",
     "text": [
      "[CV]  C=1.5, penalty=l2, accuracy=(train=0.943, test=0.920), f1=(train=0.943, test=0.920), precision=(train=0.943, test=0.920), recall=(train=0.943, test=0.920), total=  19.5s\n",
      "[CV] C=1.5, penalty=l2 ...............................................\n"
     ]
    },
    {
     "name": "stderr",
     "output_type": "stream",
     "text": [
      "C:\\Users\\takay\\anaconda3\\lib\\site-packages\\sklearn\\utils\\validation.py:72: DataConversionWarning: A column-vector y was passed when a 1d array was expected. Please change the shape of y to (n_samples, ), for example using ravel().\n",
      "  return f(**kwargs)\n",
      "C:\\Users\\takay\\anaconda3\\lib\\site-packages\\sklearn\\linear_model\\_logistic.py:762: ConvergenceWarning: lbfgs failed to converge (status=1):\n",
      "STOP: TOTAL NO. of ITERATIONS REACHED LIMIT.\n",
      "\n",
      "Increase the number of iterations (max_iter) or scale the data as shown in:\n",
      "    https://scikit-learn.org/stable/modules/preprocessing.html\n",
      "Please also refer to the documentation for alternative solver options:\n",
      "    https://scikit-learn.org/stable/modules/linear_model.html#logistic-regression\n",
      "  n_iter_i = _check_optimize_result(\n"
     ]
    },
    {
     "name": "stdout",
     "output_type": "stream",
     "text": [
      "[CV]  C=1.5, penalty=l2, accuracy=(train=0.943, test=0.914), f1=(train=0.943, test=0.914), precision=(train=0.943, test=0.914), recall=(train=0.943, test=0.914), total=  19.0s\n",
      "[CV] C=1.5, penalty=l2 ...............................................\n"
     ]
    },
    {
     "name": "stderr",
     "output_type": "stream",
     "text": [
      "C:\\Users\\takay\\anaconda3\\lib\\site-packages\\sklearn\\utils\\validation.py:72: DataConversionWarning: A column-vector y was passed when a 1d array was expected. Please change the shape of y to (n_samples, ), for example using ravel().\n",
      "  return f(**kwargs)\n",
      "C:\\Users\\takay\\anaconda3\\lib\\site-packages\\sklearn\\linear_model\\_logistic.py:762: ConvergenceWarning: lbfgs failed to converge (status=1):\n",
      "STOP: TOTAL NO. of ITERATIONS REACHED LIMIT.\n",
      "\n",
      "Increase the number of iterations (max_iter) or scale the data as shown in:\n",
      "    https://scikit-learn.org/stable/modules/preprocessing.html\n",
      "Please also refer to the documentation for alternative solver options:\n",
      "    https://scikit-learn.org/stable/modules/linear_model.html#logistic-regression\n",
      "  n_iter_i = _check_optimize_result(\n"
     ]
    },
    {
     "name": "stdout",
     "output_type": "stream",
     "text": [
      "[CV]  C=1.5, penalty=l2, accuracy=(train=0.943, test=0.916), f1=(train=0.943, test=0.916), precision=(train=0.943, test=0.916), recall=(train=0.943, test=0.916), total=  18.3s\n",
      "[CV] C=1.5, penalty=l2 ...............................................\n"
     ]
    },
    {
     "name": "stderr",
     "output_type": "stream",
     "text": [
      "C:\\Users\\takay\\anaconda3\\lib\\site-packages\\sklearn\\utils\\validation.py:72: DataConversionWarning: A column-vector y was passed when a 1d array was expected. Please change the shape of y to (n_samples, ), for example using ravel().\n",
      "  return f(**kwargs)\n",
      "C:\\Users\\takay\\anaconda3\\lib\\site-packages\\sklearn\\linear_model\\_logistic.py:762: ConvergenceWarning: lbfgs failed to converge (status=1):\n",
      "STOP: TOTAL NO. of ITERATIONS REACHED LIMIT.\n",
      "\n",
      "Increase the number of iterations (max_iter) or scale the data as shown in:\n",
      "    https://scikit-learn.org/stable/modules/preprocessing.html\n",
      "Please also refer to the documentation for alternative solver options:\n",
      "    https://scikit-learn.org/stable/modules/linear_model.html#logistic-regression\n",
      "  n_iter_i = _check_optimize_result(\n"
     ]
    },
    {
     "name": "stdout",
     "output_type": "stream",
     "text": [
      "[CV]  C=1.5, penalty=l2, accuracy=(train=0.942, test=0.923), f1=(train=0.942, test=0.923), precision=(train=0.942, test=0.923), recall=(train=0.942, test=0.923), total=  18.9s\n",
      "[CV] C=2.0, penalty=l1 ...............................................\n",
      "[CV]  C=2.0, penalty=l1, accuracy=(train=nan, test=nan), f1=(train=nan, test=nan), precision=(train=nan, test=nan), recall=(train=nan, test=nan), total=   0.1s\n",
      "[CV] C=2.0, penalty=l1 ...............................................\n"
     ]
    },
    {
     "name": "stderr",
     "output_type": "stream",
     "text": [
      "C:\\Users\\takay\\anaconda3\\lib\\site-packages\\sklearn\\model_selection\\_validation.py:548: FitFailedWarning: Estimator fit failed. The score on this train-test partition for these parameters will be set to nan. Details: \n",
      "Traceback (most recent call last):\n",
      "  File \"C:\\Users\\takay\\anaconda3\\lib\\site-packages\\sklearn\\model_selection\\_validation.py\", line 531, in _fit_and_score\n",
      "    estimator.fit(X_train, y_train, **fit_params)\n",
      "  File \"C:\\Users\\takay\\anaconda3\\lib\\site-packages\\sklearn\\linear_model\\_logistic.py\", line 1304, in fit\n",
      "    solver = _check_solver(self.solver, self.penalty, self.dual)\n",
      "  File \"C:\\Users\\takay\\anaconda3\\lib\\site-packages\\sklearn\\linear_model\\_logistic.py\", line 442, in _check_solver\n",
      "    raise ValueError(\"Solver %s supports only 'l2' or 'none' penalties, \"\n",
      "ValueError: Solver lbfgs supports only 'l2' or 'none' penalties, got l1 penalty.\n",
      "\n",
      "  warnings.warn(\"Estimator fit failed. The score on this train-test\"\n"
     ]
    },
    {
     "name": "stdout",
     "output_type": "stream",
     "text": [
      "[CV]  C=2.0, penalty=l1, accuracy=(train=nan, test=nan), f1=(train=nan, test=nan), precision=(train=nan, test=nan), recall=(train=nan, test=nan), total=   0.1s\n",
      "[CV] C=2.0, penalty=l1 ...............................................\n",
      "[CV]  C=2.0, penalty=l1, accuracy=(train=nan, test=nan), f1=(train=nan, test=nan), precision=(train=nan, test=nan), recall=(train=nan, test=nan), total=   0.1s\n",
      "[CV] C=2.0, penalty=l1 ...............................................\n",
      "[CV]  C=2.0, penalty=l1, accuracy=(train=nan, test=nan), f1=(train=nan, test=nan), precision=(train=nan, test=nan), recall=(train=nan, test=nan), total=   0.1s\n",
      "[CV] C=2.0, penalty=l1 ...............................................\n",
      "[CV]  C=2.0, penalty=l1, accuracy=(train=nan, test=nan), f1=(train=nan, test=nan), precision=(train=nan, test=nan), recall=(train=nan, test=nan), total=   0.1s\n",
      "[CV] C=2.0, penalty=l2 ...............................................\n"
     ]
    },
    {
     "name": "stderr",
     "output_type": "stream",
     "text": [
      "C:\\Users\\takay\\anaconda3\\lib\\site-packages\\sklearn\\utils\\validation.py:72: DataConversionWarning: A column-vector y was passed when a 1d array was expected. Please change the shape of y to (n_samples, ), for example using ravel().\n",
      "  return f(**kwargs)\n",
      "C:\\Users\\takay\\anaconda3\\lib\\site-packages\\sklearn\\linear_model\\_logistic.py:762: ConvergenceWarning: lbfgs failed to converge (status=1):\n",
      "STOP: TOTAL NO. of ITERATIONS REACHED LIMIT.\n",
      "\n",
      "Increase the number of iterations (max_iter) or scale the data as shown in:\n",
      "    https://scikit-learn.org/stable/modules/preprocessing.html\n",
      "Please also refer to the documentation for alternative solver options:\n",
      "    https://scikit-learn.org/stable/modules/linear_model.html#logistic-regression\n",
      "  n_iter_i = _check_optimize_result(\n"
     ]
    },
    {
     "name": "stdout",
     "output_type": "stream",
     "text": [
      "[CV]  C=2.0, penalty=l2, accuracy=(train=0.941, test=0.918), f1=(train=0.941, test=0.918), precision=(train=0.941, test=0.918), recall=(train=0.941, test=0.918), total=  19.1s\n",
      "[CV] C=2.0, penalty=l2 ...............................................\n"
     ]
    },
    {
     "name": "stderr",
     "output_type": "stream",
     "text": [
      "C:\\Users\\takay\\anaconda3\\lib\\site-packages\\sklearn\\utils\\validation.py:72: DataConversionWarning: A column-vector y was passed when a 1d array was expected. Please change the shape of y to (n_samples, ), for example using ravel().\n",
      "  return f(**kwargs)\n",
      "C:\\Users\\takay\\anaconda3\\lib\\site-packages\\sklearn\\linear_model\\_logistic.py:762: ConvergenceWarning: lbfgs failed to converge (status=1):\n",
      "STOP: TOTAL NO. of ITERATIONS REACHED LIMIT.\n",
      "\n",
      "Increase the number of iterations (max_iter) or scale the data as shown in:\n",
      "    https://scikit-learn.org/stable/modules/preprocessing.html\n",
      "Please also refer to the documentation for alternative solver options:\n",
      "    https://scikit-learn.org/stable/modules/linear_model.html#logistic-regression\n",
      "  n_iter_i = _check_optimize_result(\n"
     ]
    },
    {
     "name": "stdout",
     "output_type": "stream",
     "text": [
      "[CV]  C=2.0, penalty=l2, accuracy=(train=0.942, test=0.919), f1=(train=0.942, test=0.919), precision=(train=0.942, test=0.919), recall=(train=0.942, test=0.919), total=  18.7s\n",
      "[CV] C=2.0, penalty=l2 ...............................................\n"
     ]
    },
    {
     "name": "stderr",
     "output_type": "stream",
     "text": [
      "C:\\Users\\takay\\anaconda3\\lib\\site-packages\\sklearn\\utils\\validation.py:72: DataConversionWarning: A column-vector y was passed when a 1d array was expected. Please change the shape of y to (n_samples, ), for example using ravel().\n",
      "  return f(**kwargs)\n",
      "C:\\Users\\takay\\anaconda3\\lib\\site-packages\\sklearn\\linear_model\\_logistic.py:762: ConvergenceWarning: lbfgs failed to converge (status=1):\n",
      "STOP: TOTAL NO. of ITERATIONS REACHED LIMIT.\n",
      "\n",
      "Increase the number of iterations (max_iter) or scale the data as shown in:\n",
      "    https://scikit-learn.org/stable/modules/preprocessing.html\n",
      "Please also refer to the documentation for alternative solver options:\n",
      "    https://scikit-learn.org/stable/modules/linear_model.html#logistic-regression\n",
      "  n_iter_i = _check_optimize_result(\n"
     ]
    },
    {
     "name": "stdout",
     "output_type": "stream",
     "text": [
      "[CV]  C=2.0, penalty=l2, accuracy=(train=0.943, test=0.912), f1=(train=0.943, test=0.912), precision=(train=0.943, test=0.912), recall=(train=0.943, test=0.912), total=  18.5s\n",
      "[CV] C=2.0, penalty=l2 ...............................................\n"
     ]
    },
    {
     "name": "stderr",
     "output_type": "stream",
     "text": [
      "C:\\Users\\takay\\anaconda3\\lib\\site-packages\\sklearn\\utils\\validation.py:72: DataConversionWarning: A column-vector y was passed when a 1d array was expected. Please change the shape of y to (n_samples, ), for example using ravel().\n",
      "  return f(**kwargs)\n",
      "C:\\Users\\takay\\anaconda3\\lib\\site-packages\\sklearn\\linear_model\\_logistic.py:762: ConvergenceWarning: lbfgs failed to converge (status=1):\n",
      "STOP: TOTAL NO. of ITERATIONS REACHED LIMIT.\n",
      "\n",
      "Increase the number of iterations (max_iter) or scale the data as shown in:\n",
      "    https://scikit-learn.org/stable/modules/preprocessing.html\n",
      "Please also refer to the documentation for alternative solver options:\n",
      "    https://scikit-learn.org/stable/modules/linear_model.html#logistic-regression\n",
      "  n_iter_i = _check_optimize_result(\n"
     ]
    },
    {
     "name": "stdout",
     "output_type": "stream",
     "text": [
      "[CV]  C=2.0, penalty=l2, accuracy=(train=0.944, test=0.915), f1=(train=0.944, test=0.915), precision=(train=0.944, test=0.915), recall=(train=0.944, test=0.915), total=  18.7s\n",
      "[CV] C=2.0, penalty=l2 ...............................................\n"
     ]
    },
    {
     "name": "stderr",
     "output_type": "stream",
     "text": [
      "C:\\Users\\takay\\anaconda3\\lib\\site-packages\\sklearn\\utils\\validation.py:72: DataConversionWarning: A column-vector y was passed when a 1d array was expected. Please change the shape of y to (n_samples, ), for example using ravel().\n",
      "  return f(**kwargs)\n",
      "C:\\Users\\takay\\anaconda3\\lib\\site-packages\\sklearn\\linear_model\\_logistic.py:762: ConvergenceWarning: lbfgs failed to converge (status=1):\n",
      "STOP: TOTAL NO. of ITERATIONS REACHED LIMIT.\n",
      "\n",
      "Increase the number of iterations (max_iter) or scale the data as shown in:\n",
      "    https://scikit-learn.org/stable/modules/preprocessing.html\n",
      "Please also refer to the documentation for alternative solver options:\n",
      "    https://scikit-learn.org/stable/modules/linear_model.html#logistic-regression\n",
      "  n_iter_i = _check_optimize_result(\n"
     ]
    },
    {
     "name": "stdout",
     "output_type": "stream",
     "text": [
      "[CV]  C=2.0, penalty=l2, accuracy=(train=0.942, test=0.922), f1=(train=0.942, test=0.922), precision=(train=0.942, test=0.922), recall=(train=0.942, test=0.922), total=  18.7s\n",
      "[CV] C=3.0, penalty=l1 ...............................................\n",
      "[CV]  C=3.0, penalty=l1, accuracy=(train=nan, test=nan), f1=(train=nan, test=nan), precision=(train=nan, test=nan), recall=(train=nan, test=nan), total=   0.1s\n",
      "[CV] C=3.0, penalty=l1 ...............................................\n"
     ]
    },
    {
     "name": "stderr",
     "output_type": "stream",
     "text": [
      "C:\\Users\\takay\\anaconda3\\lib\\site-packages\\sklearn\\model_selection\\_validation.py:548: FitFailedWarning: Estimator fit failed. The score on this train-test partition for these parameters will be set to nan. Details: \n",
      "Traceback (most recent call last):\n",
      "  File \"C:\\Users\\takay\\anaconda3\\lib\\site-packages\\sklearn\\model_selection\\_validation.py\", line 531, in _fit_and_score\n",
      "    estimator.fit(X_train, y_train, **fit_params)\n",
      "  File \"C:\\Users\\takay\\anaconda3\\lib\\site-packages\\sklearn\\linear_model\\_logistic.py\", line 1304, in fit\n",
      "    solver = _check_solver(self.solver, self.penalty, self.dual)\n",
      "  File \"C:\\Users\\takay\\anaconda3\\lib\\site-packages\\sklearn\\linear_model\\_logistic.py\", line 442, in _check_solver\n",
      "    raise ValueError(\"Solver %s supports only 'l2' or 'none' penalties, \"\n",
      "ValueError: Solver lbfgs supports only 'l2' or 'none' penalties, got l1 penalty.\n",
      "\n",
      "  warnings.warn(\"Estimator fit failed. The score on this train-test\"\n"
     ]
    },
    {
     "name": "stdout",
     "output_type": "stream",
     "text": [
      "[CV]  C=3.0, penalty=l1, accuracy=(train=nan, test=nan), f1=(train=nan, test=nan), precision=(train=nan, test=nan), recall=(train=nan, test=nan), total=   0.1s\n",
      "[CV] C=3.0, penalty=l1 ...............................................\n",
      "[CV]  C=3.0, penalty=l1, accuracy=(train=nan, test=nan), f1=(train=nan, test=nan), precision=(train=nan, test=nan), recall=(train=nan, test=nan), total=   0.1s\n",
      "[CV] C=3.0, penalty=l1 ...............................................\n",
      "[CV]  C=3.0, penalty=l1, accuracy=(train=nan, test=nan), f1=(train=nan, test=nan), precision=(train=nan, test=nan), recall=(train=nan, test=nan), total=   0.1s\n",
      "[CV] C=3.0, penalty=l1 ...............................................\n",
      "[CV]  C=3.0, penalty=l1, accuracy=(train=nan, test=nan), f1=(train=nan, test=nan), precision=(train=nan, test=nan), recall=(train=nan, test=nan), total=   0.1s\n",
      "[CV] C=3.0, penalty=l2 ...............................................\n"
     ]
    },
    {
     "name": "stderr",
     "output_type": "stream",
     "text": [
      "C:\\Users\\takay\\anaconda3\\lib\\site-packages\\sklearn\\utils\\validation.py:72: DataConversionWarning: A column-vector y was passed when a 1d array was expected. Please change the shape of y to (n_samples, ), for example using ravel().\n",
      "  return f(**kwargs)\n",
      "C:\\Users\\takay\\anaconda3\\lib\\site-packages\\sklearn\\linear_model\\_logistic.py:762: ConvergenceWarning: lbfgs failed to converge (status=1):\n",
      "STOP: TOTAL NO. of ITERATIONS REACHED LIMIT.\n",
      "\n",
      "Increase the number of iterations (max_iter) or scale the data as shown in:\n",
      "    https://scikit-learn.org/stable/modules/preprocessing.html\n",
      "Please also refer to the documentation for alternative solver options:\n",
      "    https://scikit-learn.org/stable/modules/linear_model.html#logistic-regression\n",
      "  n_iter_i = _check_optimize_result(\n"
     ]
    },
    {
     "name": "stdout",
     "output_type": "stream",
     "text": [
      "[CV]  C=3.0, penalty=l2, accuracy=(train=0.942, test=0.916), f1=(train=0.942, test=0.916), precision=(train=0.942, test=0.916), recall=(train=0.942, test=0.916), total=  18.3s\n",
      "[CV] C=3.0, penalty=l2 ...............................................\n"
     ]
    },
    {
     "name": "stderr",
     "output_type": "stream",
     "text": [
      "C:\\Users\\takay\\anaconda3\\lib\\site-packages\\sklearn\\utils\\validation.py:72: DataConversionWarning: A column-vector y was passed when a 1d array was expected. Please change the shape of y to (n_samples, ), for example using ravel().\n",
      "  return f(**kwargs)\n",
      "C:\\Users\\takay\\anaconda3\\lib\\site-packages\\sklearn\\linear_model\\_logistic.py:762: ConvergenceWarning: lbfgs failed to converge (status=1):\n",
      "STOP: TOTAL NO. of ITERATIONS REACHED LIMIT.\n",
      "\n",
      "Increase the number of iterations (max_iter) or scale the data as shown in:\n",
      "    https://scikit-learn.org/stable/modules/preprocessing.html\n",
      "Please also refer to the documentation for alternative solver options:\n",
      "    https://scikit-learn.org/stable/modules/linear_model.html#logistic-regression\n",
      "  n_iter_i = _check_optimize_result(\n"
     ]
    },
    {
     "name": "stdout",
     "output_type": "stream",
     "text": [
      "[CV]  C=3.0, penalty=l2, accuracy=(train=0.941, test=0.920), f1=(train=0.941, test=0.920), precision=(train=0.941, test=0.920), recall=(train=0.941, test=0.920), total=  19.0s\n",
      "[CV] C=3.0, penalty=l2 ...............................................\n"
     ]
    },
    {
     "name": "stderr",
     "output_type": "stream",
     "text": [
      "C:\\Users\\takay\\anaconda3\\lib\\site-packages\\sklearn\\utils\\validation.py:72: DataConversionWarning: A column-vector y was passed when a 1d array was expected. Please change the shape of y to (n_samples, ), for example using ravel().\n",
      "  return f(**kwargs)\n",
      "C:\\Users\\takay\\anaconda3\\lib\\site-packages\\sklearn\\linear_model\\_logistic.py:762: ConvergenceWarning: lbfgs failed to converge (status=1):\n",
      "STOP: TOTAL NO. of ITERATIONS REACHED LIMIT.\n",
      "\n",
      "Increase the number of iterations (max_iter) or scale the data as shown in:\n",
      "    https://scikit-learn.org/stable/modules/preprocessing.html\n",
      "Please also refer to the documentation for alternative solver options:\n",
      "    https://scikit-learn.org/stable/modules/linear_model.html#logistic-regression\n",
      "  n_iter_i = _check_optimize_result(\n"
     ]
    },
    {
     "name": "stdout",
     "output_type": "stream",
     "text": [
      "[CV]  C=3.0, penalty=l2, accuracy=(train=0.944, test=0.912), f1=(train=0.944, test=0.912), precision=(train=0.944, test=0.912), recall=(train=0.944, test=0.912), total=  18.6s\n",
      "[CV] C=3.0, penalty=l2 ...............................................\n"
     ]
    },
    {
     "name": "stderr",
     "output_type": "stream",
     "text": [
      "C:\\Users\\takay\\anaconda3\\lib\\site-packages\\sklearn\\utils\\validation.py:72: DataConversionWarning: A column-vector y was passed when a 1d array was expected. Please change the shape of y to (n_samples, ), for example using ravel().\n",
      "  return f(**kwargs)\n",
      "C:\\Users\\takay\\anaconda3\\lib\\site-packages\\sklearn\\linear_model\\_logistic.py:762: ConvergenceWarning: lbfgs failed to converge (status=1):\n",
      "STOP: TOTAL NO. of ITERATIONS REACHED LIMIT.\n",
      "\n",
      "Increase the number of iterations (max_iter) or scale the data as shown in:\n",
      "    https://scikit-learn.org/stable/modules/preprocessing.html\n",
      "Please also refer to the documentation for alternative solver options:\n",
      "    https://scikit-learn.org/stable/modules/linear_model.html#logistic-regression\n",
      "  n_iter_i = _check_optimize_result(\n"
     ]
    },
    {
     "name": "stdout",
     "output_type": "stream",
     "text": [
      "[CV]  C=3.0, penalty=l2, accuracy=(train=0.944, test=0.915), f1=(train=0.944, test=0.915), precision=(train=0.944, test=0.915), recall=(train=0.944, test=0.915), total=  19.5s\n",
      "[CV] C=3.0, penalty=l2 ...............................................\n"
     ]
    },
    {
     "name": "stderr",
     "output_type": "stream",
     "text": [
      "C:\\Users\\takay\\anaconda3\\lib\\site-packages\\sklearn\\utils\\validation.py:72: DataConversionWarning: A column-vector y was passed when a 1d array was expected. Please change the shape of y to (n_samples, ), for example using ravel().\n",
      "  return f(**kwargs)\n",
      "C:\\Users\\takay\\anaconda3\\lib\\site-packages\\sklearn\\linear_model\\_logistic.py:762: ConvergenceWarning: lbfgs failed to converge (status=1):\n",
      "STOP: TOTAL NO. of ITERATIONS REACHED LIMIT.\n",
      "\n",
      "Increase the number of iterations (max_iter) or scale the data as shown in:\n",
      "    https://scikit-learn.org/stable/modules/preprocessing.html\n",
      "Please also refer to the documentation for alternative solver options:\n",
      "    https://scikit-learn.org/stable/modules/linear_model.html#logistic-regression\n",
      "  n_iter_i = _check_optimize_result(\n"
     ]
    },
    {
     "name": "stdout",
     "output_type": "stream",
     "text": [
      "[CV]  C=3.0, penalty=l2, accuracy=(train=0.942, test=0.921), f1=(train=0.942, test=0.921), precision=(train=0.942, test=0.921), recall=(train=0.942, test=0.921), total=  19.7s\n"
     ]
    },
    {
     "name": "stderr",
     "output_type": "stream",
     "text": [
      "[Parallel(n_jobs=1)]: Done  70 out of  70 | elapsed: 11.3min finished\n"
     ]
    },
    {
     "data": {
      "text/plain": [
       "GridSearchCV(cv=5, estimator=LogisticRegression(),\n",
       "             param_grid={'C': [0.01, 0.1, 0.5, 1.0, 1.5, 2.0, 3.0],\n",
       "                         'penalty': ['l1', 'l2']},\n",
       "             refit=False, return_train_score=True,\n",
       "             scoring={'accuracy': make_scorer(accuracy_score),\n",
       "                      'f1': make_scorer(f1_score, average=micro),\n",
       "                      'precision': make_scorer(precision_score, average=micro),\n",
       "                      'recall': make_scorer(recall_score, average=micro)},\n",
       "             verbose=3)"
      ]
     },
     "execution_count": 48,
     "metadata": {},
     "output_type": "execute_result"
    }
   ],
   "source": [
    "grid_search_v1.fit(X_train, y_train)"
   ]
  },
  {
   "cell_type": "code",
   "execution_count": 49,
   "metadata": {},
   "outputs": [
    {
     "data": {
      "text/plain": [
       "{'mean_fit_time': array([ 0.1304729 , 18.47241707,  0.13023567, 18.868928  ,  0.11577692,\n",
       "        19.49523416,  0.13158188, 18.96579189,  0.13193846, 18.93555083,\n",
       "         0.13199792, 18.66190033,  0.12338271, 18.94748955]),\n",
       " 'std_fit_time': array([0.00836327, 0.25355458, 0.01301521, 0.24082057, 0.01128904,\n",
       "        0.32475546, 0.00710188, 0.70648492, 0.00737517, 0.41511465,\n",
       "        0.00863372, 0.2212397 , 0.00676006, 0.52827374]),\n",
       " 'mean_score_time': array([0.        , 0.06642885, 0.        , 0.0661365 , 0.        ,\n",
       "        0.06440949, 0.        , 0.06917372, 0.        , 0.06243138,\n",
       "        0.        , 0.06474133, 0.        , 0.06526484]),\n",
       " 'std_score_time': array([0.        , 0.00331568, 0.        , 0.00320909, 0.        ,\n",
       "        0.00700437, 0.        , 0.00420656, 0.        , 0.00406237,\n",
       "        0.        , 0.00610344, 0.        , 0.0043319 ]),\n",
       " 'param_C': masked_array(data=[0.01, 0.01, 0.1, 0.1, 0.5, 0.5, 1.0, 1.0, 1.5, 1.5,\n",
       "                    2.0, 2.0, 3.0, 3.0],\n",
       "              mask=[False, False, False, False, False, False, False, False,\n",
       "                    False, False, False, False, False, False],\n",
       "        fill_value='?',\n",
       "             dtype=object),\n",
       " 'param_penalty': masked_array(data=['l1', 'l2', 'l1', 'l2', 'l1', 'l2', 'l1', 'l2', 'l1',\n",
       "                    'l2', 'l1', 'l2', 'l1', 'l2'],\n",
       "              mask=[False, False, False, False, False, False, False, False,\n",
       "                    False, False, False, False, False, False],\n",
       "        fill_value='?',\n",
       "             dtype=object),\n",
       " 'params': [{'C': 0.01, 'penalty': 'l1'},\n",
       "  {'C': 0.01, 'penalty': 'l2'},\n",
       "  {'C': 0.1, 'penalty': 'l1'},\n",
       "  {'C': 0.1, 'penalty': 'l2'},\n",
       "  {'C': 0.5, 'penalty': 'l1'},\n",
       "  {'C': 0.5, 'penalty': 'l2'},\n",
       "  {'C': 1.0, 'penalty': 'l1'},\n",
       "  {'C': 1.0, 'penalty': 'l2'},\n",
       "  {'C': 1.5, 'penalty': 'l1'},\n",
       "  {'C': 1.5, 'penalty': 'l2'},\n",
       "  {'C': 2.0, 'penalty': 'l1'},\n",
       "  {'C': 2.0, 'penalty': 'l2'},\n",
       "  {'C': 3.0, 'penalty': 'l1'},\n",
       "  {'C': 3.0, 'penalty': 'l2'}],\n",
       " 'split0_test_accuracy': array([       nan, 0.90350537,        nan, 0.91644031,        nan,\n",
       "        0.9182512 ,        nan, 0.9182512 ,        nan, 0.91786315,\n",
       "               nan, 0.9179925 ,        nan, 0.91566421]),\n",
       " 'split1_test_accuracy': array([       nan, 0.91475876,        nan, 0.92187298,        nan,\n",
       "        0.92135558,        nan, 0.91954469,        nan, 0.91980339,\n",
       "               nan, 0.91876859,        nan, 0.91954469]),\n",
       " 'split2_test_accuracy': array([       nan, 0.90389342,        nan, 0.91501746,        nan,\n",
       "        0.91488811,        nan, 0.91424137,        nan, 0.91398267,\n",
       "               nan, 0.91230113,        nan, 0.91217178]),\n",
       " 'split3_test_accuracy': array([       nan, 0.90906739,        nan, 0.91980339,        nan,\n",
       "        0.91812185,        nan, 0.9172164 ,        nan, 0.91579356,\n",
       "               nan, 0.91540551,        nan, 0.91527616]),\n",
       " 'split4_test_accuracy': array([       nan, 0.91579356,        nan, 0.92381322,        nan,\n",
       "        0.92394257,        nan, 0.92368387,        nan, 0.92316647,\n",
       "               nan, 0.92187298,        nan, 0.92096753]),\n",
       " 'mean_test_accuracy': array([       nan, 0.9094037 ,        nan, 0.91938947,        nan,\n",
       "        0.91931186,        nan, 0.9185875 ,        nan, 0.91812185,\n",
       "               nan, 0.91726814,        nan, 0.91672487]),\n",
       " 'std_test_accuracy': array([       nan, 0.00519179,        nan, 0.00327783,        nan,\n",
       "        0.00308969,        nan, 0.00309099,        nan, 0.0031905 ,\n",
       "               nan, 0.00322866,        nan, 0.0031593 ]),\n",
       " 'rank_test_accuracy': array([ 8,  7,  9,  1, 10,  2, 11,  3, 12,  4, 13,  5, 14,  6]),\n",
       " 'split0_train_accuracy': array([       nan, 0.91608459,        nan, 0.93374078,        nan,\n",
       "        0.9403376 ,        nan, 0.94143707,        nan, 0.94150175,\n",
       "               nan, 0.94121071,        nan, 0.94156642]),\n",
       " 'split1_train_accuracy': array([       nan, 0.91346527,        nan, 0.93361143,        nan,\n",
       "        0.93969085,        nan, 0.94179278,        nan, 0.9427629 ,\n",
       "               nan, 0.94188979,        nan, 0.94124305]),\n",
       " 'split2_train_accuracy': array([       nan, 0.91572888,        nan, 0.93458155,        nan,\n",
       "        0.94172811,        nan, 0.94282758,        nan, 0.94308628,\n",
       "               nan, 0.94334497,        nan, 0.94402406]),\n",
       " 'split3_train_accuracy': array([       nan, 0.91543785,        nan, 0.93370845,        nan,\n",
       "        0.94121071,        nan, 0.94195447,        nan, 0.94340965,\n",
       "               nan, 0.94360367,        nan, 0.94370069]),\n",
       " 'split4_train_accuracy': array([       nan, 0.91482344,        nan, 0.93374078,        nan,\n",
       "        0.94062864,        nan, 0.94140473,        nan, 0.94208382,\n",
       "               nan, 0.94218083,        nan, 0.94214849]),\n",
       " 'mean_train_accuracy': array([       nan, 0.91510801,        nan, 0.9338766 ,        nan,\n",
       "        0.94071918,        nan, 0.94188333,        nan, 0.94256888,\n",
       "               nan, 0.942446  ,        nan, 0.94253654]),\n",
       " 'std_train_accuracy': array([       nan, 0.00091952,        nan, 0.00035565,        nan,\n",
       "        0.00070296,        nan, 0.00051635,        nan, 0.00069084,\n",
       "               nan, 0.00090044,        nan, 0.00112541]),\n",
       " 'split0_test_recall': array([       nan, 0.90350537,        nan, 0.91644031,        nan,\n",
       "        0.9182512 ,        nan, 0.9182512 ,        nan, 0.91786315,\n",
       "               nan, 0.9179925 ,        nan, 0.91566421]),\n",
       " 'split1_test_recall': array([       nan, 0.91475876,        nan, 0.92187298,        nan,\n",
       "        0.92135558,        nan, 0.91954469,        nan, 0.91980339,\n",
       "               nan, 0.91876859,        nan, 0.91954469]),\n",
       " 'split2_test_recall': array([       nan, 0.90389342,        nan, 0.91501746,        nan,\n",
       "        0.91488811,        nan, 0.91424137,        nan, 0.91398267,\n",
       "               nan, 0.91230113,        nan, 0.91217178]),\n",
       " 'split3_test_recall': array([       nan, 0.90906739,        nan, 0.91980339,        nan,\n",
       "        0.91812185,        nan, 0.9172164 ,        nan, 0.91579356,\n",
       "               nan, 0.91540551,        nan, 0.91527616]),\n",
       " 'split4_test_recall': array([       nan, 0.91579356,        nan, 0.92381322,        nan,\n",
       "        0.92394257,        nan, 0.92368387,        nan, 0.92316647,\n",
       "               nan, 0.92187298,        nan, 0.92096753]),\n",
       " 'mean_test_recall': array([       nan, 0.9094037 ,        nan, 0.91938947,        nan,\n",
       "        0.91931186,        nan, 0.9185875 ,        nan, 0.91812185,\n",
       "               nan, 0.91726814,        nan, 0.91672487]),\n",
       " 'std_test_recall': array([       nan, 0.00519179,        nan, 0.00327783,        nan,\n",
       "        0.00308969,        nan, 0.00309099,        nan, 0.0031905 ,\n",
       "               nan, 0.00322866,        nan, 0.0031593 ]),\n",
       " 'rank_test_recall': array([ 8,  7,  9,  1, 10,  2, 11,  3, 12,  4, 13,  5, 14,  6]),\n",
       " 'split0_train_recall': array([       nan, 0.91608459,        nan, 0.93374078,        nan,\n",
       "        0.9403376 ,        nan, 0.94143707,        nan, 0.94150175,\n",
       "               nan, 0.94121071,        nan, 0.94156642]),\n",
       " 'split1_train_recall': array([       nan, 0.91346527,        nan, 0.93361143,        nan,\n",
       "        0.93969085,        nan, 0.94179278,        nan, 0.9427629 ,\n",
       "               nan, 0.94188979,        nan, 0.94124305]),\n",
       " 'split2_train_recall': array([       nan, 0.91572888,        nan, 0.93458155,        nan,\n",
       "        0.94172811,        nan, 0.94282758,        nan, 0.94308628,\n",
       "               nan, 0.94334497,        nan, 0.94402406]),\n",
       " 'split3_train_recall': array([       nan, 0.91543785,        nan, 0.93370845,        nan,\n",
       "        0.94121071,        nan, 0.94195447,        nan, 0.94340965,\n",
       "               nan, 0.94360367,        nan, 0.94370069]),\n",
       " 'split4_train_recall': array([       nan, 0.91482344,        nan, 0.93374078,        nan,\n",
       "        0.94062864,        nan, 0.94140473,        nan, 0.94208382,\n",
       "               nan, 0.94218083,        nan, 0.94214849]),\n",
       " 'mean_train_recall': array([       nan, 0.91510801,        nan, 0.9338766 ,        nan,\n",
       "        0.94071918,        nan, 0.94188333,        nan, 0.94256888,\n",
       "               nan, 0.942446  ,        nan, 0.94253654]),\n",
       " 'std_train_recall': array([       nan, 0.00091952,        nan, 0.00035565,        nan,\n",
       "        0.00070296,        nan, 0.00051635,        nan, 0.00069084,\n",
       "               nan, 0.00090044,        nan, 0.00112541]),\n",
       " 'split0_test_precision': array([       nan, 0.90350537,        nan, 0.91644031,        nan,\n",
       "        0.9182512 ,        nan, 0.9182512 ,        nan, 0.91786315,\n",
       "               nan, 0.9179925 ,        nan, 0.91566421]),\n",
       " 'split1_test_precision': array([       nan, 0.91475876,        nan, 0.92187298,        nan,\n",
       "        0.92135558,        nan, 0.91954469,        nan, 0.91980339,\n",
       "               nan, 0.91876859,        nan, 0.91954469]),\n",
       " 'split2_test_precision': array([       nan, 0.90389342,        nan, 0.91501746,        nan,\n",
       "        0.91488811,        nan, 0.91424137,        nan, 0.91398267,\n",
       "               nan, 0.91230113,        nan, 0.91217178]),\n",
       " 'split3_test_precision': array([       nan, 0.90906739,        nan, 0.91980339,        nan,\n",
       "        0.91812185,        nan, 0.9172164 ,        nan, 0.91579356,\n",
       "               nan, 0.91540551,        nan, 0.91527616]),\n",
       " 'split4_test_precision': array([       nan, 0.91579356,        nan, 0.92381322,        nan,\n",
       "        0.92394257,        nan, 0.92368387,        nan, 0.92316647,\n",
       "               nan, 0.92187298,        nan, 0.92096753]),\n",
       " 'mean_test_precision': array([       nan, 0.9094037 ,        nan, 0.91938947,        nan,\n",
       "        0.91931186,        nan, 0.9185875 ,        nan, 0.91812185,\n",
       "               nan, 0.91726814,        nan, 0.91672487]),\n",
       " 'std_test_precision': array([       nan, 0.00519179,        nan, 0.00327783,        nan,\n",
       "        0.00308969,        nan, 0.00309099,        nan, 0.0031905 ,\n",
       "               nan, 0.00322866,        nan, 0.0031593 ]),\n",
       " 'rank_test_precision': array([ 8,  7,  9,  1, 10,  2, 11,  3, 12,  4, 13,  5, 14,  6]),\n",
       " 'split0_train_precision': array([       nan, 0.91608459,        nan, 0.93374078,        nan,\n",
       "        0.9403376 ,        nan, 0.94143707,        nan, 0.94150175,\n",
       "               nan, 0.94121071,        nan, 0.94156642]),\n",
       " 'split1_train_precision': array([       nan, 0.91346527,        nan, 0.93361143,        nan,\n",
       "        0.93969085,        nan, 0.94179278,        nan, 0.9427629 ,\n",
       "               nan, 0.94188979,        nan, 0.94124305]),\n",
       " 'split2_train_precision': array([       nan, 0.91572888,        nan, 0.93458155,        nan,\n",
       "        0.94172811,        nan, 0.94282758,        nan, 0.94308628,\n",
       "               nan, 0.94334497,        nan, 0.94402406]),\n",
       " 'split3_train_precision': array([       nan, 0.91543785,        nan, 0.93370845,        nan,\n",
       "        0.94121071,        nan, 0.94195447,        nan, 0.94340965,\n",
       "               nan, 0.94360367,        nan, 0.94370069]),\n",
       " 'split4_train_precision': array([       nan, 0.91482344,        nan, 0.93374078,        nan,\n",
       "        0.94062864,        nan, 0.94140473,        nan, 0.94208382,\n",
       "               nan, 0.94218083,        nan, 0.94214849]),\n",
       " 'mean_train_precision': array([       nan, 0.91510801,        nan, 0.9338766 ,        nan,\n",
       "        0.94071918,        nan, 0.94188333,        nan, 0.94256888,\n",
       "               nan, 0.942446  ,        nan, 0.94253654]),\n",
       " 'std_train_precision': array([       nan, 0.00091952,        nan, 0.00035565,        nan,\n",
       "        0.00070296,        nan, 0.00051635,        nan, 0.00069084,\n",
       "               nan, 0.00090044,        nan, 0.00112541]),\n",
       " 'split0_test_f1': array([       nan, 0.90350537,        nan, 0.91644031,        nan,\n",
       "        0.9182512 ,        nan, 0.9182512 ,        nan, 0.91786315,\n",
       "               nan, 0.9179925 ,        nan, 0.91566421]),\n",
       " 'split1_test_f1': array([       nan, 0.91475876,        nan, 0.92187298,        nan,\n",
       "        0.92135558,        nan, 0.91954469,        nan, 0.91980339,\n",
       "               nan, 0.91876859,        nan, 0.91954469]),\n",
       " 'split2_test_f1': array([       nan, 0.90389342,        nan, 0.91501746,        nan,\n",
       "        0.91488811,        nan, 0.91424137,        nan, 0.91398267,\n",
       "               nan, 0.91230113,        nan, 0.91217178]),\n",
       " 'split3_test_f1': array([       nan, 0.90906739,        nan, 0.91980339,        nan,\n",
       "        0.91812185,        nan, 0.9172164 ,        nan, 0.91579356,\n",
       "               nan, 0.91540551,        nan, 0.91527616]),\n",
       " 'split4_test_f1': array([       nan, 0.91579356,        nan, 0.92381322,        nan,\n",
       "        0.92394257,        nan, 0.92368387,        nan, 0.92316647,\n",
       "               nan, 0.92187298,        nan, 0.92096753]),\n",
       " 'mean_test_f1': array([       nan, 0.9094037 ,        nan, 0.91938947,        nan,\n",
       "        0.91931186,        nan, 0.9185875 ,        nan, 0.91812185,\n",
       "               nan, 0.91726814,        nan, 0.91672487]),\n",
       " 'std_test_f1': array([       nan, 0.00519179,        nan, 0.00327783,        nan,\n",
       "        0.00308969,        nan, 0.00309099,        nan, 0.0031905 ,\n",
       "               nan, 0.00322866,        nan, 0.0031593 ]),\n",
       " 'rank_test_f1': array([ 8,  7,  9,  1, 10,  2, 11,  3, 12,  4, 13,  5, 14,  6]),\n",
       " 'split0_train_f1': array([       nan, 0.91608459,        nan, 0.93374078,        nan,\n",
       "        0.9403376 ,        nan, 0.94143707,        nan, 0.94150175,\n",
       "               nan, 0.94121071,        nan, 0.94156642]),\n",
       " 'split1_train_f1': array([       nan, 0.91346527,        nan, 0.93361143,        nan,\n",
       "        0.93969085,        nan, 0.94179278,        nan, 0.9427629 ,\n",
       "               nan, 0.94188979,        nan, 0.94124305]),\n",
       " 'split2_train_f1': array([       nan, 0.91572888,        nan, 0.93458155,        nan,\n",
       "        0.94172811,        nan, 0.94282758,        nan, 0.94308628,\n",
       "               nan, 0.94334497,        nan, 0.94402406]),\n",
       " 'split3_train_f1': array([       nan, 0.91543785,        nan, 0.93370845,        nan,\n",
       "        0.94121071,        nan, 0.94195447,        nan, 0.94340965,\n",
       "               nan, 0.94360367,        nan, 0.94370069]),\n",
       " 'split4_train_f1': array([       nan, 0.91482344,        nan, 0.93374078,        nan,\n",
       "        0.94062864,        nan, 0.94140473,        nan, 0.94208382,\n",
       "               nan, 0.94218083,        nan, 0.94214849]),\n",
       " 'mean_train_f1': array([       nan, 0.91510801,        nan, 0.9338766 ,        nan,\n",
       "        0.94071918,        nan, 0.94188333,        nan, 0.94256888,\n",
       "               nan, 0.942446  ,        nan, 0.94253654]),\n",
       " 'std_train_f1': array([       nan, 0.00091952,        nan, 0.00035565,        nan,\n",
       "        0.00070296,        nan, 0.00051635,        nan, 0.00069084,\n",
       "               nan, 0.00090044,        nan, 0.00112541])}"
      ]
     },
     "execution_count": 49,
     "metadata": {},
     "output_type": "execute_result"
    }
   ],
   "source": [
    "grid_search_v1.cv_results_"
   ]
  },
  {
   "cell_type": "code",
   "execution_count": 50,
   "metadata": {},
   "outputs": [],
   "source": [
    "params = grid_search_v1.cv_results_['params']\n",
    "accuracy_list = grid_search_v1.cv_results_['mean_test_accuracy']\n",
    "\n",
    "result_list = []\n",
    "for param, accuracy in zip(params, accuracy_list):\n",
    "    param[\"test_acc\"] = accuracy\n",
    "    result_list.append(param)"
   ]
  },
  {
   "cell_type": "code",
   "execution_count": 51,
   "metadata": {},
   "outputs": [
    {
     "data": {
      "text/plain": [
       "[{'C': 0.01, 'penalty': 'l1', 'test_acc': nan},\n",
       " {'C': 0.01, 'penalty': 'l2', 'test_acc': 0.9094036993920579},\n",
       " {'C': 0.1, 'penalty': 'l1', 'test_acc': nan},\n",
       " {'C': 0.1, 'penalty': 'l2', 'test_acc': 0.9193894709610658},\n",
       " {'C': 0.5, 'penalty': 'l1', 'test_acc': nan},\n",
       " {'C': 0.5, 'penalty': 'l2', 'test_acc': 0.9193118613374726},\n",
       " {'C': 1.0, 'penalty': 'l1', 'test_acc': nan},\n",
       " {'C': 1.0, 'penalty': 'l2', 'test_acc': 0.9185875048506015},\n",
       " {'C': 1.5, 'penalty': 'l1', 'test_acc': nan},\n",
       " {'C': 1.5, 'penalty': 'l2', 'test_acc': 0.9181218471090415},\n",
       " {'C': 2.0, 'penalty': 'l1', 'test_acc': nan},\n",
       " {'C': 2.0, 'penalty': 'l2', 'test_acc': 0.9172681412495148},\n",
       " {'C': 3.0, 'penalty': 'l1', 'test_acc': nan},\n",
       " {'C': 3.0, 'penalty': 'l2', 'test_acc': 0.9167248738843616}]"
      ]
     },
     "execution_count": 51,
     "metadata": {},
     "output_type": "execute_result"
    }
   ],
   "source": [
    "result_list"
   ]
  },
  {
   "cell_type": "code",
   "execution_count": 52,
   "metadata": {},
   "outputs": [],
   "source": [
    "df_result_v1 = pd.DataFrame(result_list)"
   ]
  },
  {
   "cell_type": "code",
   "execution_count": 53,
   "metadata": {},
   "outputs": [
    {
     "data": {
      "text/html": [
       "<div>\n",
       "<style scoped>\n",
       "    .dataframe tbody tr th:only-of-type {\n",
       "        vertical-align: middle;\n",
       "    }\n",
       "\n",
       "    .dataframe tbody tr th {\n",
       "        vertical-align: top;\n",
       "    }\n",
       "\n",
       "    .dataframe thead th {\n",
       "        text-align: right;\n",
       "    }\n",
       "</style>\n",
       "<table border=\"1\" class=\"dataframe\">\n",
       "  <thead>\n",
       "    <tr style=\"text-align: right;\">\n",
       "      <th></th>\n",
       "      <th>C</th>\n",
       "      <th>penalty</th>\n",
       "      <th>test_acc</th>\n",
       "    </tr>\n",
       "  </thead>\n",
       "  <tbody>\n",
       "    <tr>\n",
       "      <th>0</th>\n",
       "      <td>0.01</td>\n",
       "      <td>l1</td>\n",
       "      <td>NaN</td>\n",
       "    </tr>\n",
       "    <tr>\n",
       "      <th>1</th>\n",
       "      <td>0.01</td>\n",
       "      <td>l2</td>\n",
       "      <td>0.909404</td>\n",
       "    </tr>\n",
       "    <tr>\n",
       "      <th>2</th>\n",
       "      <td>0.10</td>\n",
       "      <td>l1</td>\n",
       "      <td>NaN</td>\n",
       "    </tr>\n",
       "    <tr>\n",
       "      <th>3</th>\n",
       "      <td>0.10</td>\n",
       "      <td>l2</td>\n",
       "      <td>0.919389</td>\n",
       "    </tr>\n",
       "    <tr>\n",
       "      <th>4</th>\n",
       "      <td>0.50</td>\n",
       "      <td>l1</td>\n",
       "      <td>NaN</td>\n",
       "    </tr>\n",
       "    <tr>\n",
       "      <th>5</th>\n",
       "      <td>0.50</td>\n",
       "      <td>l2</td>\n",
       "      <td>0.919312</td>\n",
       "    </tr>\n",
       "    <tr>\n",
       "      <th>6</th>\n",
       "      <td>1.00</td>\n",
       "      <td>l1</td>\n",
       "      <td>NaN</td>\n",
       "    </tr>\n",
       "    <tr>\n",
       "      <th>7</th>\n",
       "      <td>1.00</td>\n",
       "      <td>l2</td>\n",
       "      <td>0.918588</td>\n",
       "    </tr>\n",
       "    <tr>\n",
       "      <th>8</th>\n",
       "      <td>1.50</td>\n",
       "      <td>l1</td>\n",
       "      <td>NaN</td>\n",
       "    </tr>\n",
       "    <tr>\n",
       "      <th>9</th>\n",
       "      <td>1.50</td>\n",
       "      <td>l2</td>\n",
       "      <td>0.918122</td>\n",
       "    </tr>\n",
       "    <tr>\n",
       "      <th>10</th>\n",
       "      <td>2.00</td>\n",
       "      <td>l1</td>\n",
       "      <td>NaN</td>\n",
       "    </tr>\n",
       "    <tr>\n",
       "      <th>11</th>\n",
       "      <td>2.00</td>\n",
       "      <td>l2</td>\n",
       "      <td>0.917268</td>\n",
       "    </tr>\n",
       "    <tr>\n",
       "      <th>12</th>\n",
       "      <td>3.00</td>\n",
       "      <td>l1</td>\n",
       "      <td>NaN</td>\n",
       "    </tr>\n",
       "    <tr>\n",
       "      <th>13</th>\n",
       "      <td>3.00</td>\n",
       "      <td>l2</td>\n",
       "      <td>0.916725</td>\n",
       "    </tr>\n",
       "  </tbody>\n",
       "</table>\n",
       "</div>"
      ],
      "text/plain": [
       "       C penalty  test_acc\n",
       "0   0.01      l1       NaN\n",
       "1   0.01      l2  0.909404\n",
       "2   0.10      l1       NaN\n",
       "3   0.10      l2  0.919389\n",
       "4   0.50      l1       NaN\n",
       "5   0.50      l2  0.919312\n",
       "6   1.00      l1       NaN\n",
       "7   1.00      l2  0.918588\n",
       "8   1.50      l1       NaN\n",
       "9   1.50      l2  0.918122\n",
       "10  2.00      l1       NaN\n",
       "11  2.00      l2  0.917268\n",
       "12  3.00      l1       NaN\n",
       "13  3.00      l2  0.916725"
      ]
     },
     "execution_count": 53,
     "metadata": {},
     "output_type": "execute_result"
    }
   ],
   "source": [
    "df_result_v1"
   ]
  },
  {
   "cell_type": "code",
   "execution_count": 54,
   "metadata": {},
   "outputs": [
    {
     "data": {
      "image/png": "[encoded data removed]",
      "text/plain": [
       "<Figure size 432x288 with 1 Axes>"
      ]
     },
     "metadata": {
      "needs_background": "light"
     },
     "output_type": "display_data"
    }
   ],
   "source": [
    "sns.scatterplot(data=df_result_v1, x=\"C\", y=\"test_acc\", hue=\"penalty\")\n",
    "plt.legend(loc= 'lower right', fontsize=18)\n",
    "plt.show()"
   ]
  },
  {
   "cell_type": "code",
   "execution_count": null,
   "metadata": {},
   "outputs": [],
   "source": []
  }
 ],
 "metadata": {
  "kernelspec": {
   "display_name": "Python 3",
   "language": "python",
   "name": "python3"
  },
  "language_info": {
   "codemirror_mode": {
    "name": "ipython",
    "version": 3
   },
   "file_extension": ".py",
   "mimetype": "text/x-python",
   "name": "python",
   "nbconvert_exporter": "python",
   "pygments_lexer": "ipython3",
   "version": "3.8.5"
  }
 },
 "nbformat": 4,
 "nbformat_minor": 4
}
