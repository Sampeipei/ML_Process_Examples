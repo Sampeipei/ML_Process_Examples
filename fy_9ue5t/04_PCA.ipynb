{
 "cells": [
  {
   "cell_type": "code",
   "execution_count": 1,
   "id": "558df91b",
   "metadata": {},
   "outputs": [],
   "source": [
    "import numpy as np\n",
    "import matplotlib.pyplot as plt\n",
    "\n",
    "from sklearn.decomposition import PCA"
   ]
  },
  {
   "cell_type": "markdown",
   "id": "a52e0023",
   "metadata": {},
   "source": [
    "## Load Data"
   ]
  },
  {
   "cell_type": "code",
   "execution_count": 4,
   "id": "c85ec871",
   "metadata": {},
   "outputs": [],
   "source": [
    "data = np.load(\"../my_comp_train_XY.npz\")\n",
    "X = data[\"X\"]\n",
    "X = X.reshape(X.shape[0], -1)\n",
    "y = data[\"y\"]"
   ]
  },
  {
   "cell_type": "markdown",
   "id": "e986e609",
   "metadata": {},
   "source": [
    "## PCA for dimention reduction"
   ]
  },
  {
   "cell_type": "code",
   "execution_count": 5,
   "id": "4272b65a",
   "metadata": {},
   "outputs": [
    {
     "data": {
      "text/plain": [
       "PCA()"
      ]
     },
     "execution_count": 5,
     "metadata": {},
     "output_type": "execute_result"
    }
   ],
   "source": [
    "# fit PCA\n",
    "pca = PCA()\n",
    "pca.fit(X)"
   ]
  },
  {
   "cell_type": "code",
   "execution_count": 11,
   "id": "c2c754a8",
   "metadata": {},
   "outputs": [],
   "source": [
    "explained_variance = np.cumsum(pca.explained_variance_ratio_)"
   ]
  },
  {
   "cell_type": "code",
   "execution_count": 19,
   "id": "d28039e9",
   "metadata": {},
   "outputs": [
    {
     "data": {
      "text/plain": [
       "Text(0, 0.5, 'Variance ratio')"
      ]
     },
     "execution_count": 19,
     "metadata": {},
     "output_type": "execute_result"
    },
    {
     "data": {
      "image/png": "[encoded data removed]",
      "text/plain": [
       "<Figure size 432x288 with 1 Axes>"
      ]
     },
     "metadata": {
      "needs_background": "light"
     },
     "output_type": "display_data"
    }
   ],
   "source": [
    "plt.figure()\n",
    "plt.plot(explained_variance)\n",
    "plt.title(\"variance ratio vs dimention reduction\")\n",
    "plt.xlabel(\"Dimention\")\n",
    "plt.ylabel(\"Variance ratio\")"
   ]
  },
  {
   "cell_type": "code",
   "execution_count": 15,
   "id": "4136ef7b",
   "metadata": {},
   "outputs": [],
   "source": [
    "dimention = np.argmax(explained_variance >= 0.95) + 1"
   ]
  },
  {
   "cell_type": "code",
   "execution_count": 16,
   "id": "046ad192",
   "metadata": {},
   "outputs": [
    {
     "data": {
      "text/plain": [
       "156"
      ]
     },
     "execution_count": 16,
     "metadata": {},
     "output_type": "execute_result"
    }
   ],
   "source": [
    "dimention"
   ]
  },
  {
   "cell_type": "markdown",
   "id": "5b260faa",
   "metadata": {},
   "source": [
    "### observation\n",
    "variance ratio keep 0.95% at dimention n = 156"
   ]
  },
  {
   "cell_type": "code",
   "execution_count": null,
   "id": "b61d5e8d",
   "metadata": {},
   "outputs": [],
   "source": []
  }
 ],
 "metadata": {
  "kernelspec": {
   "display_name": "Python 3",
   "language": "python",
   "name": "python3"
  },
  "language_info": {
   "codemirror_mode": {
    "name": "ipython",
    "version": 3
   },
   "file_extension": ".py",
   "mimetype": "text/x-python",
   "name": "python",
   "nbconvert_exporter": "python",
   "pygments_lexer": "ipython3",
   "version": "3.8.8"
  }
 },
 "nbformat": 4,
 "nbformat_minor": 5
}
