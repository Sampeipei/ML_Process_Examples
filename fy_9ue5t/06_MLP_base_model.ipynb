{
 "cells": [
  {
   "cell_type": "code",
   "execution_count": 1,
   "id": "71e8a803",
   "metadata": {},
   "outputs": [],
   "source": [
    "import numpy as np\n",
    "import matplotlib.pyplot as plt\n",
    "import seaborn as sns\n",
    "import pandas as pd\n",
    "\n",
    "import tensorflow as tf\n",
    "from tensorflow import keras\n",
    "from tensorflow.keras.callbacks import EarlyStopping\n",
    "\n",
    "from sklearn.model_selection import train_test_split, GridSearchCV\n",
    "from sklearn.metrics import accuracy_score, confusion_matrix"
   ]
  },
  {
   "cell_type": "markdown",
   "id": "4be9ff3e",
   "metadata": {},
   "source": [
    "# 1.Load Data"
   ]
  },
  {
   "cell_type": "code",
   "execution_count": 2,
   "id": "4d176db6",
   "metadata": {},
   "outputs": [],
   "source": [
    "data = np.load(\"../my_comp_train_XY.npz\")\n",
    "X = data[\"X\"]\n",
    "y = data[\"y\"]"
   ]
  },
  {
   "cell_type": "markdown",
   "id": "6af1814e",
   "metadata": {},
   "source": [
    "# 2.Split train, valid and test data"
   ]
  },
  {
   "cell_type": "code",
   "execution_count": 3,
   "id": "678ed3d3",
   "metadata": {},
   "outputs": [],
   "source": [
    "X = X.reshape(X.shape[0], -1)\n",
    "# split train, valid and test data(ratio 0.6:0.2:0.2)\n",
    "X_temp, X_test, y_temp, y_test = train_test_split(X, y, test_size=0.2, stratify=y, random_state=10)\n",
    "X_train, X_valid, y_train, y_valid = train_test_split(X_temp, y_temp, test_size=0.25, stratify=y_temp, random_state=10)"
   ]
  },
  {
   "cell_type": "code",
   "execution_count": 4,
   "id": "f6db13eb",
   "metadata": {},
   "outputs": [],
   "source": [
    "# X_data 0 to 1 scaled\n",
    "X_train_scaled = X_train / 255.0\n",
    "X_valid_scaled = X_valid / 255.0\n",
    "X_test_scaled = X_test / 255.0"
   ]
  },
  {
   "cell_type": "code",
   "execution_count": 6,
   "id": "fc7781da",
   "metadata": {},
   "outputs": [
    {
     "name": "stdout",
     "output_type": "stream",
     "text": [
      "Train data shape, X_train.shape:(27285, 784) y_train.shape:(27285,)\n",
      "Valid data shape, X_valid.shape:(9096, 784) y_valid.shape:(9096,)\n",
      "Test data shape, X_test.shape:(9096, 784) y_test.shape:(9096,)\n"
     ]
    }
   ],
   "source": [
    "print(\"Train data shape, X_train.shape:{} y_train.shape:{}\".format(X_train_scaled.shape, y_train.shape))\n",
    "print(\"Valid data shape, X_valid.shape:{} y_valid.shape:{}\".format(X_valid_scaled.shape, y_valid.shape))\n",
    "print(\"Test data shape, X_test.shape:{} y_test.shape:{}\".format(X_test_scaled.shape, y_test.shape))"
   ]
  },
  {
   "cell_type": "markdown",
   "id": "242d57d7",
   "metadata": {},
   "source": [
    "# 3.Classification"
   ]
  },
  {
   "cell_type": "markdown",
   "id": "6f4ed5bc",
   "metadata": {},
   "source": [
    "## 3-1.MLP base model"
   ]
  },
  {
   "cell_type": "code",
   "execution_count": 7,
   "id": "4c2ec082",
   "metadata": {},
   "outputs": [],
   "source": [
    "# input layer number of neuron\n",
    "INPUT_SIZE = 784\n",
    "# output layer number of neuron\n",
    "OUTPUT_SIZE = 10\n",
    "# output layer activation function\n",
    "OUTPUT_LAYER_ACTIVATION_FUNC = \"softmax\"\n",
    "# loss function\n",
    "LOSS_FUNC = \"sparse_categorical_crossentropy\""
   ]
  },
  {
   "cell_type": "code",
   "execution_count": 15,
   "id": "8ed1d97d",
   "metadata": {},
   "outputs": [],
   "source": [
    "# Fix epochs and batch size\n",
    "epochs = 30\n",
    "batch_size = 32"
   ]
  },
  {
   "cell_type": "code",
   "execution_count": 16,
   "id": "5dc07f28",
   "metadata": {},
   "outputs": [],
   "source": [
    "# validation data\n",
    "validation_data = (X_valid_scaled, y_valid)"
   ]
  },
  {
   "cell_type": "code",
   "execution_count": 17,
   "id": "cb3e4393",
   "metadata": {},
   "outputs": [],
   "source": [
    "# base model\n",
    "mlp_clf_base = keras.models.Sequential([\n",
    "#     keras.layers.Flatten(input_shape=[INPUT_SIZE]), no need (p303)\n",
    "    keras.layers.Dense(300, activation=\"relu\", input_shape=[INPUT_SIZE]),\n",
    "    keras.layers.Dense(150, activation=\"relu\"),\n",
    "    keras.layers.Dense(100, activation=\"relu\"),\n",
    "    keras.layers.Dense(70, activation=\"relu\"),\n",
    "    keras.layers.Dense(30, activation=\"relu\"),\n",
    "    keras.layers.Dense(OUTPUT_SIZE, activation=OUTPUT_LAYER_ACTIVATION_FUNC),\n",
    "])"
   ]
  },
  {
   "cell_type": "code",
   "execution_count": 18,
   "id": "c2dc498a",
   "metadata": {},
   "outputs": [
    {
     "name": "stdout",
     "output_type": "stream",
     "text": [
      "Model: \"sequential_1\"\n",
      "_________________________________________________________________\n",
      "Layer (type)                 Output Shape              Param #   \n",
      "=================================================================\n",
      "dense_6 (Dense)              (None, 300)               235500    \n",
      "_________________________________________________________________\n",
      "dense_7 (Dense)              (None, 150)               45150     \n",
      "_________________________________________________________________\n",
      "dense_8 (Dense)              (None, 100)               15100     \n",
      "_________________________________________________________________\n",
      "dense_9 (Dense)              (None, 70)                7070      \n",
      "_________________________________________________________________\n",
      "dense_10 (Dense)             (None, 30)                2130      \n",
      "_________________________________________________________________\n",
      "dense_11 (Dense)             (None, 10)                310       \n",
      "=================================================================\n",
      "Total params: 305,260\n",
      "Trainable params: 305,260\n",
      "Non-trainable params: 0\n",
      "_________________________________________________________________\n"
     ]
    }
   ],
   "source": [
    "mlp_clf_base.summary()"
   ]
  },
  {
   "cell_type": "code",
   "execution_count": 19,
   "id": "aff04090",
   "metadata": {},
   "outputs": [],
   "source": [
    "mlp_clf_base.compile(loss=LOSS_FUNC, metrics=[\"accuracy\"], optimizer=\"Adam\")"
   ]
  },
  {
   "cell_type": "code",
   "execution_count": 20,
   "id": "736bac6e",
   "metadata": {},
   "outputs": [],
   "source": [
    "# early stopping callback\n",
    "early_stopping_cb = EarlyStopping(monitor='val_loss', patience=10)"
   ]
  },
  {
   "cell_type": "code",
   "execution_count": 21,
   "id": "bbe3a245",
   "metadata": {
    "scrolled": true
   },
   "outputs": [
    {
     "name": "stdout",
     "output_type": "stream",
     "text": [
      "Epoch 1/30\n",
      "853/853 [==============================] - 3s 4ms/step - loss: 0.3308 - accuracy: 0.8981 - val_loss: 0.2016 - val_accuracy: 0.9303\n",
      "Epoch 2/30\n",
      "853/853 [==============================] - 3s 3ms/step - loss: 0.1343 - accuracy: 0.9595 - val_loss: 0.1429 - val_accuracy: 0.9581\n",
      "Epoch 3/30\n",
      "853/853 [==============================] - 3s 3ms/step - loss: 0.0933 - accuracy: 0.9716 - val_loss: 0.1124 - val_accuracy: 0.9665\n",
      "Epoch 4/30\n",
      "853/853 [==============================] - 3s 3ms/step - loss: 0.0705 - accuracy: 0.9790 - val_loss: 0.1343 - val_accuracy: 0.9639\n",
      "Epoch 5/30\n",
      "853/853 [==============================] - 3s 3ms/step - loss: 0.0596 - accuracy: 0.9823 - val_loss: 0.1090 - val_accuracy: 0.9690\n",
      "Epoch 6/30\n",
      "853/853 [==============================] - 4s 4ms/step - loss: 0.0519 - accuracy: 0.9845 - val_loss: 0.1192 - val_accuracy: 0.9686\n",
      "Epoch 7/30\n",
      "853/853 [==============================] - 4s 5ms/step - loss: 0.0380 - accuracy: 0.9876 - val_loss: 0.1197 - val_accuracy: 0.9671\n",
      "Epoch 8/30\n",
      "853/853 [==============================] - 3s 4ms/step - loss: 0.0363 - accuracy: 0.9891 - val_loss: 0.1118 - val_accuracy: 0.9723\n",
      "Epoch 9/30\n",
      "853/853 [==============================] - 3s 3ms/step - loss: 0.0304 - accuracy: 0.9911 - val_loss: 0.1257 - val_accuracy: 0.9719\n",
      "Epoch 10/30\n",
      "853/853 [==============================] - 3s 3ms/step - loss: 0.0312 - accuracy: 0.9900 - val_loss: 0.1393 - val_accuracy: 0.9691\n",
      "Epoch 11/30\n",
      "853/853 [==============================] - 3s 4ms/step - loss: 0.0300 - accuracy: 0.9911 - val_loss: 0.1376 - val_accuracy: 0.9701\n",
      "Epoch 12/30\n",
      "853/853 [==============================] - 3s 3ms/step - loss: 0.0269 - accuracy: 0.9918 - val_loss: 0.1328 - val_accuracy: 0.9712\n",
      "Epoch 13/30\n",
      "853/853 [==============================] - 3s 4ms/step - loss: 0.0220 - accuracy: 0.9938 - val_loss: 0.1245 - val_accuracy: 0.9714\n",
      "Epoch 14/30\n",
      "853/853 [==============================] - 4s 4ms/step - loss: 0.0224 - accuracy: 0.9931 - val_loss: 0.1389 - val_accuracy: 0.9699\n",
      "Epoch 15/30\n",
      "853/853 [==============================] - 3s 4ms/step - loss: 0.0219 - accuracy: 0.9936 - val_loss: 0.1217 - val_accuracy: 0.9743\n"
     ]
    }
   ],
   "source": [
    "# train model and accuracy evaluation with validation data\n",
    "history = mlp_clf_base.fit(X_train_scaled, y_train, epochs=epochs,\n",
    "                         batch_size=batch_size,\n",
    "                         validation_data=validation_data,\n",
    "                         callbacks=[early_stopping_cb])"
   ]
  },
  {
   "cell_type": "code",
   "execution_count": 24,
   "id": "bef43572",
   "metadata": {},
   "outputs": [
    {
     "data": {
      "text/plain": [
       "dict_keys(['loss', 'accuracy', 'val_loss', 'val_accuracy'])"
      ]
     },
     "execution_count": 24,
     "metadata": {},
     "output_type": "execute_result"
    }
   ],
   "source": [
    "history.history.keys()"
   ]
  },
  {
   "cell_type": "code",
   "execution_count": 25,
   "id": "6354ae94",
   "metadata": {},
   "outputs": [],
   "source": [
    "train_loss, valid_loss = history.history[\"loss\"], history.history[\"val_loss\"]\n",
    "train_acc, valid_acc = history.history[\"accuracy\"], history.history[\"val_accuracy\"]"
   ]
  },
  {
   "cell_type": "code",
   "execution_count": 27,
   "id": "9abee693",
   "metadata": {},
   "outputs": [
    {
     "data": {
      "image/png": "[encoded data removed]",
      "text/plain": [
       "<Figure size 1200x400 with 2 Axes>"
      ]
     },
     "metadata": {},
     "output_type": "display_data"
    }
   ],
   "source": [
    "# plot loss and accuracy score with train and valid data along epoch\n",
    "\n",
    "plt.figure(figsize=(12,4))\n",
    "plt.subplot(121)\n",
    "plt.plot(range(len(train_loss)), train_loss, \"-x\", label=\"train loss\")\n",
    "plt.plot(range(len(valid_loss)), valid_loss, \"-x\", label=\"valid loss\")\n",
    "plt.ylabel(\"loss\")\n",
    "plt.xlabel(\"epoch\")\n",
    "plt.legend()\n",
    "plt.title(\"Loss\")\n",
    "\n",
    "plt.subplot(122)\n",
    "plt.plot(range(len(train_acc)), train_acc, \"-x\", label=\"train acc\")\n",
    "plt.plot(range(len(valid_acc)), valid_acc, \"-x\", label=\"valid acc\")\n",
    "plt.ylabel(\"accuracy\")\n",
    "plt.xlabel(\"epoch\")\n",
    "plt.ylim([0.8, 1.0])\n",
    "plt.legend()\n",
    "plt.title(\"Accuracy\")\n",
    "\n",
    "plt.show()"
   ]
  },
  {
   "cell_type": "markdown",
   "id": "6c851283",
   "metadata": {},
   "source": [
    "### observation\n",
    "\n",
    "epoch > 4 is over fitting"
   ]
  },
  {
   "cell_type": "code",
   "execution_count": 28,
   "id": "44ed1364",
   "metadata": {},
   "outputs": [
    {
     "name": "stdout",
     "output_type": "stream",
     "text": [
      "285/285 [==============================] - 0s 2ms/step - loss: 0.1361 - accuracy: 0.9723\n"
     ]
    },
    {
     "data": {
      "text/plain": [
       "[0.13608527183532715, 0.9722955226898193]"
      ]
     },
     "execution_count": 28,
     "metadata": {},
     "output_type": "execute_result"
    }
   ],
   "source": [
    "# evaluate accuracy score with test data\n",
    "mlp_clf_base.evaluate(X_test_scaled, y_test)"
   ]
  },
  {
   "cell_type": "code",
   "execution_count": null,
   "id": "95b5c06d",
   "metadata": {},
   "outputs": [],
   "source": []
  }
 ],
 "metadata": {
  "kernelspec": {
   "display_name": "Python 3",
   "language": "python",
   "name": "python3"
  },
  "language_info": {
   "codemirror_mode": {
    "name": "ipython",
    "version": 3
   },
   "file_extension": ".py",
   "mimetype": "text/x-python",
   "name": "python",
   "nbconvert_exporter": "python",
   "pygments_lexer": "ipython3",
   "version": "3.8.11"
  }
 },
 "nbformat": 4,
 "nbformat_minor": 5
}
