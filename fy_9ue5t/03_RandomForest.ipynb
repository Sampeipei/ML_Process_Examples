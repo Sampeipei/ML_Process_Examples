{
 "cells": [
  {
   "cell_type": "code",
   "execution_count": 1,
   "id": "18f1d5ed",
   "metadata": {},
   "outputs": [],
   "source": [
    "import numpy as np\n",
    "import matplotlib.pyplot as plt\n",
    "import seaborn as sns\n",
    "import pandas as pd\n",
    "\n",
    "from sklearn.model_selection import train_test_split, cross_val_score, cross_val_predict, GridSearchCV\n",
    "from sklearn.metrics import accuracy_score, confusion_matrix\n",
    "from sklearn.ensemble import RandomForestClassifier"
   ]
  },
  {
   "cell_type": "markdown",
   "id": "5ee99ad5",
   "metadata": {},
   "source": [
    "## Load Data"
   ]
  },
  {
   "cell_type": "code",
   "execution_count": 2,
   "id": "2e718c32",
   "metadata": {},
   "outputs": [],
   "source": [
    "data = np.load(\"../my_comp_train_XY.npz\")\n",
    "X = data[\"X\"]\n",
    "y = data[\"y\"]"
   ]
  },
  {
   "cell_type": "markdown",
   "id": "ef642f51",
   "metadata": {},
   "source": [
    "## Split train and test data"
   ]
  },
  {
   "cell_type": "code",
   "execution_count": 3,
   "id": "40f2cf71",
   "metadata": {},
   "outputs": [],
   "source": [
    "X = X.reshape(X.shape[0], -1)\n",
    "# split train and test data(ratio 0.8:0.2)\n",
    "X_train, X_test, y_train, y_test = train_test_split(X, y, test_size=0.2, stratify=y)"
   ]
  },
  {
   "cell_type": "code",
   "execution_count": 4,
   "id": "20510a91",
   "metadata": {},
   "outputs": [],
   "source": [
    "# X_data 0 to 1 scaled\n",
    "X_train_scaled = X_train/255.0\n",
    "X_test_scaled = X_test/255.0"
   ]
  },
  {
   "cell_type": "markdown",
   "id": "d7e23928",
   "metadata": {},
   "source": [
    "## Classification"
   ]
  },
  {
   "cell_type": "markdown",
   "id": "44d28a12",
   "metadata": {},
   "source": [
    "### Random Forest"
   ]
  },
  {
   "cell_type": "code",
   "execution_count": 5,
   "id": "d2f36283",
   "metadata": {},
   "outputs": [
    {
     "name": "stderr",
     "output_type": "stream",
     "text": [
      "[Parallel(n_jobs=1)]: Using backend SequentialBackend with 1 concurrent workers.\n"
     ]
    },
    {
     "name": "stdout",
     "output_type": "stream",
     "text": [
      "building tree 1 of 100\n"
     ]
    },
    {
     "name": "stderr",
     "output_type": "stream",
     "text": [
      "[Parallel(n_jobs=1)]: Done   1 out of   1 | elapsed:    0.5s remaining:    0.0s\n"
     ]
    },
    {
     "name": "stdout",
     "output_type": "stream",
     "text": [
      "building tree 2 of 100\n",
      "building tree 3 of 100\n",
      "building tree 4 of 100\n",
      "building tree 5 of 100\n",
      "building tree 6 of 100\n",
      "building tree 7 of 100\n",
      "building tree 8 of 100\n",
      "building tree 9 of 100\n",
      "building tree 10 of 100\n",
      "building tree 11 of 100\n",
      "building tree 12 of 100\n",
      "building tree 13 of 100\n",
      "building tree 14 of 100\n",
      "building tree 15 of 100\n",
      "building tree 16 of 100\n",
      "building tree 17 of 100\n",
      "building tree 18 of 100\n",
      "building tree 19 of 100\n",
      "building tree 20 of 100\n",
      "building tree 21 of 100\n",
      "building tree 22 of 100\n",
      "building tree 23 of 100\n",
      "building tree 24 of 100\n",
      "building tree 25 of 100\n",
      "building tree 26 of 100\n",
      "building tree 27 of 100\n",
      "building tree 28 of 100\n",
      "building tree 29 of 100\n",
      "building tree 30 of 100\n",
      "building tree 31 of 100\n",
      "building tree 32 of 100\n",
      "building tree 33 of 100\n",
      "building tree 34 of 100\n",
      "building tree 35 of 100\n",
      "building tree 36 of 100\n",
      "building tree 37 of 100\n",
      "building tree 38 of 100\n",
      "building tree 39 of 100\n",
      "building tree 40 of 100\n",
      "building tree 41 of 100\n",
      "building tree 42 of 100\n",
      "building tree 43 of 100\n",
      "building tree 44 of 100\n",
      "building tree 45 of 100\n",
      "building tree 46 of 100\n",
      "building tree 47 of 100\n",
      "building tree 48 of 100\n",
      "building tree 49 of 100\n",
      "building tree 50 of 100\n",
      "building tree 51 of 100\n",
      "building tree 52 of 100\n",
      "building tree 53 of 100\n",
      "building tree 54 of 100\n",
      "building tree 55 of 100\n",
      "building tree 56 of 100\n",
      "building tree 57 of 100\n",
      "building tree 58 of 100\n",
      "building tree 59 of 100\n",
      "building tree 60 of 100\n",
      "building tree 61 of 100\n",
      "building tree 62 of 100\n",
      "building tree 63 of 100\n",
      "building tree 64 of 100\n",
      "building tree 65 of 100\n",
      "building tree 66 of 100\n",
      "building tree 67 of 100\n",
      "building tree 68 of 100\n",
      "building tree 69 of 100\n",
      "building tree 70 of 100\n",
      "building tree 71 of 100\n",
      "building tree 72 of 100\n",
      "building tree 73 of 100\n",
      "building tree 74 of 100\n",
      "building tree 75 of 100\n",
      "building tree 76 of 100\n",
      "building tree 77 of 100\n",
      "building tree 78 of 100\n",
      "building tree 79 of 100\n",
      "building tree 80 of 100\n",
      "building tree 81 of 100\n",
      "building tree 82 of 100\n",
      "building tree 83 of 100\n",
      "building tree 84 of 100\n",
      "building tree 85 of 100\n",
      "building tree 86 of 100\n",
      "building tree 87 of 100\n",
      "building tree 88 of 100\n",
      "building tree 89 of 100\n",
      "building tree 90 of 100\n",
      "building tree 91 of 100\n",
      "building tree 92 of 100\n",
      "building tree 93 of 100\n",
      "building tree 94 of 100\n",
      "building tree 95 of 100\n",
      "building tree 96 of 100\n",
      "building tree 97 of 100\n",
      "building tree 98 of 100\n",
      "building tree 99 of 100\n",
      "building tree 100 of 100\n"
     ]
    },
    {
     "name": "stderr",
     "output_type": "stream",
     "text": [
      "[Parallel(n_jobs=1)]: Done 100 out of 100 | elapsed:  1.4min finished\n"
     ]
    },
    {
     "data": {
      "text/plain": [
       "RandomForestClassifier(verbose=2)"
      ]
     },
     "execution_count": 5,
     "metadata": {},
     "output_type": "execute_result"
    }
   ],
   "source": [
    "rnd_clf = RandomForestClassifier(verbose=2)\n",
    "rnd_clf.fit(X_train_scaled, y_train)"
   ]
  },
  {
   "cell_type": "code",
   "execution_count": 6,
   "id": "f9baf8b3",
   "metadata": {},
   "outputs": [
    {
     "name": "stderr",
     "output_type": "stream",
     "text": [
      "[Parallel(n_jobs=1)]: Using backend SequentialBackend with 1 concurrent workers.\n",
      "[Parallel(n_jobs=1)]: Done   1 out of   1 | elapsed:    0.0s remaining:    0.0s\n"
     ]
    },
    {
     "name": "stdout",
     "output_type": "stream",
     "text": [
      "1.0\n"
     ]
    },
    {
     "name": "stderr",
     "output_type": "stream",
     "text": [
      "[Parallel(n_jobs=1)]: Done 100 out of 100 | elapsed:    4.4s finished\n"
     ]
    }
   ],
   "source": [
    "# accuracy score\n",
    "y_pred_rnd = rnd_clf.predict(X_train_scaled)\n",
    "accuracy_score_rnd_train = accuracy_score(y_pred_rnd, y_train)\n",
    "print(accuracy_score_rnd_train)"
   ]
  },
  {
   "cell_type": "code",
   "execution_count": 7,
   "id": "cee7e248",
   "metadata": {},
   "outputs": [
    {
     "data": {
      "text/plain": [
       "array([[3317,    0,    0,    0,    0,    0,    0,    0,    0,    0],\n",
       "       [   0, 2697,    0,    0,    0,    0,    0,    0,    0,    0],\n",
       "       [   0,    0, 4289,    0,    0,    0,    0,    0,    0,    0],\n",
       "       [   0,    0,    0, 3923,    0,    0,    0,    0,    0,    0],\n",
       "       [   0,    0,    0,    0, 3271,    0,    0,    0,    0,    0],\n",
       "       [   0,    0,    0,    0,    0, 2602,    0,    0,    0,    0],\n",
       "       [   0,    0,    0,    0,    0,    0, 4261,    0,    0,    0],\n",
       "       [   0,    0,    0,    0,    0,    0,    0, 4009,    0,    0],\n",
       "       [   0,    0,    0,    0,    0,    0,    0,    0, 4681,    0],\n",
       "       [   0,    0,    0,    0,    0,    0,    0,    0,    0, 3331]],\n",
       "      dtype=int64)"
      ]
     },
     "execution_count": 7,
     "metadata": {},
     "output_type": "execute_result"
    }
   ],
   "source": [
    "# confusion matrix value\n",
    "matric_rnd_train = confusion_matrix(y_train, y_pred_rnd)\n",
    "matric_rnd_train"
   ]
  },
  {
   "cell_type": "markdown",
   "id": "f4e62d04",
   "metadata": {},
   "source": [
    "### Random Forest with Cross-validation"
   ]
  },
  {
   "cell_type": "code",
   "execution_count": 8,
   "id": "5057e057",
   "metadata": {},
   "outputs": [
    {
     "data": {
      "text/plain": [
       "array([0.95942937, 0.95992414, 0.96074874])"
      ]
     },
     "execution_count": 8,
     "metadata": {},
     "output_type": "execute_result"
    }
   ],
   "source": [
    "# Random Forest with cross validation\n",
    "rnd_clf = RandomForestClassifier()\n",
    "cross_val_score(rnd_clf, X_train_scaled, y_train, cv=3, scoring=\"accuracy\")"
   ]
  },
  {
   "cell_type": "code",
   "execution_count": 9,
   "id": "00e6f058",
   "metadata": {},
   "outputs": [
    {
     "name": "stdout",
     "output_type": "stream",
     "text": [
      "0.9600340837250213\n"
     ]
    }
   ],
   "source": [
    "# accuracy score\n",
    "y_pred_rnd_cv = cross_val_predict(rnd_clf, X_train_scaled, y_train, cv=3)\n",
    "accuracy_score_rnd_train = accuracy_score(y_pred_rnd_cv, y_train)\n",
    "print(accuracy_score_rnd_train)"
   ]
  },
  {
   "cell_type": "code",
   "execution_count": 10,
   "id": "4e644ab9",
   "metadata": {},
   "outputs": [
    {
     "data": {
      "text/plain": [
       "array([[3254,    1,    5,    3,    2,    5,   16,    2,   27,    2],\n",
       "       [   1, 2640,   17,    6,    6,    3,    7,    5,    8,    4],\n",
       "       [  19,    7, 4149,   17,   21,    3,   12,   26,   34,    1],\n",
       "       [   7,    4,   68, 3708,    3,   26,   10,   29,   51,   17],\n",
       "       [   7,    5,   10,    0, 3123,    2,   25,    8,   14,   77],\n",
       "       [  14,    4,    5,   61,    4, 2424,   33,    5,   35,   17],\n",
       "       [  18,    6,    3,    0,    4,   16, 4188,    0,   26,    0],\n",
       "       [   3,   15,   44,    3,   22,    0,    1, 3853,   13,   55],\n",
       "       [  11,   19,   35,   31,   18,   17,   28,    3, 4483,   36],\n",
       "       [  12,    4,   14,   42,   58,   12,    4,   43,   37, 3105]],\n",
       "      dtype=int64)"
      ]
     },
     "execution_count": 10,
     "metadata": {},
     "output_type": "execute_result"
    }
   ],
   "source": [
    "# confusion matrix value\n",
    "matric_rnd_train_cv = confusion_matrix(y_train, y_pred_rnd_cv)\n",
    "matric_rnd_train_cv"
   ]
  },
  {
   "cell_type": "code",
   "execution_count": 11,
   "id": "2c147ba0",
   "metadata": {},
   "outputs": [
    {
     "data": {
      "text/plain": [
       "<AxesSubplot:>"
      ]
     },
     "execution_count": 11,
     "metadata": {},
     "output_type": "execute_result"
    },
    {
     "data": {
      "image/png": "[encoded data removed]",
      "text/plain": [
       "<Figure size 864x576 with 2 Axes>"
      ]
     },
     "metadata": {
      "needs_background": "light"
     },
     "output_type": "display_data"
    }
   ],
   "source": [
    "# confusion matrix plot\n",
    "plt.figure(figsize=(12,8))\n",
    "sns.heatmap(matric_rnd_train_cv, annot=True, vmin=0, vmax=100)"
   ]
  },
  {
   "cell_type": "markdown",
   "id": "065ef21e",
   "metadata": {},
   "source": [
    "## Hyper parameter tuning with Random Forest"
   ]
  },
  {
   "cell_type": "code",
   "execution_count": 16,
   "id": "f9f96f12",
   "metadata": {},
   "outputs": [
    {
     "data": {
      "text/plain": [
       "{'bootstrap': True,\n",
       " 'ccp_alpha': 0.0,\n",
       " 'class_weight': None,\n",
       " 'criterion': 'gini',\n",
       " 'max_depth': None,\n",
       " 'max_features': 'auto',\n",
       " 'max_leaf_nodes': None,\n",
       " 'max_samples': None,\n",
       " 'min_impurity_decrease': 0.0,\n",
       " 'min_impurity_split': None,\n",
       " 'min_samples_leaf': 1,\n",
       " 'min_samples_split': 2,\n",
       " 'min_weight_fraction_leaf': 0.0,\n",
       " 'n_estimators': 100,\n",
       " 'n_jobs': None,\n",
       " 'oob_score': False,\n",
       " 'random_state': None,\n",
       " 'verbose': 0,\n",
       " 'warm_start': False}"
      ]
     },
     "execution_count": 16,
     "metadata": {},
     "output_type": "execute_result"
    }
   ],
   "source": [
    "rnd_clf.get_params()"
   ]
  },
  {
   "cell_type": "code",
   "execution_count": 17,
   "id": "ca0b9a10",
   "metadata": {},
   "outputs": [],
   "source": [
    "# split train and valid data(ratio 0.8:0.2)\n",
    "X_train_for_hp, X_valid, y_train_for_hp, y_valid = train_test_split(\n",
    "    X_train_scaled, y_train, test_size=0.2, stratify=y_train)"
   ]
  },
  {
   "cell_type": "markdown",
   "id": "0da00062",
   "metadata": {},
   "source": [
    "### change max depth"
   ]
  },
  {
   "cell_type": "code",
   "execution_count": 20,
   "id": "e64caf60",
   "metadata": {},
   "outputs": [],
   "source": [
    "# max depth parameter\n",
    "max_depth = np.arange(1,100)\n",
    "\n",
    "train_result_list = []\n",
    "valid_result_list = []\n",
    "for max_depth_param in max_depth:\n",
    "    rnd_clf = RandomForestClassifier(max_depth=max_depth_param)\n",
    "    rnd_clf.fit(X_train_for_hp, y_train_for_hp)\n",
    "    y_pred_train = rnd_clf.predict(X_train_for_hp)\n",
    "    accuracy_score_rnd_train = accuracy_score(y_pred_train, y_train_for_hp)\n",
    "    \n",
    "    train_result_list.append(accuracy_score_rnd_train)\n",
    "    \n",
    "    y_pred_valid = rnd_clf.predict(X_valid)\n",
    "    accuracy_score_rnd_valid = accuracy_score(y_pred_valid, y_valid)\n",
    "    \n",
    "    valid_result_list.append(accuracy_score_rnd_valid)"
   ]
  },
  {
   "cell_type": "code",
   "execution_count": 21,
   "id": "56f977ad",
   "metadata": {},
   "outputs": [
    {
     "data": {
      "text/plain": [
       "[<matplotlib.lines.Line2D at 0x1ce01227b20>]"
      ]
     },
     "execution_count": 21,
     "metadata": {},
     "output_type": "execute_result"
    },
    {
     "data": {
      "image/png": "[encoded data removed]",
      "text/plain": [
       "<Figure size 432x288 with 1 Axes>"
      ]
     },
     "metadata": {
      "needs_background": "light"
     },
     "output_type": "display_data"
    }
   ],
   "source": [
    "plt.figure()\n",
    "plt.plot(max_depth, train_result_list)\n",
    "plt.plot(max_depth, valid_result_list)"
   ]
  },
  {
   "cell_type": "code",
   "execution_count": 37,
   "id": "2cddaf41",
   "metadata": {},
   "outputs": [],
   "source": [
    "max_depth_train_valid_diff_min = np.argmax((np.array(train_result_list) - np.array(valid_result_list)) > 0.01)"
   ]
  },
  {
   "cell_type": "code",
   "execution_count": 38,
   "id": "e9a9516c",
   "metadata": {},
   "outputs": [
    {
     "data": {
      "text/plain": [
       "7"
      ]
     },
     "execution_count": 38,
     "metadata": {},
     "output_type": "execute_result"
    }
   ],
   "source": [
    "max_depth_train_valid_diff_min"
   ]
  },
  {
   "cell_type": "code",
   "execution_count": 40,
   "id": "0fb04940",
   "metadata": {},
   "outputs": [],
   "source": [
    "# n estimator parameter\n",
    "n_estimators = np.arange(1,100)\n",
    "\n",
    "train_result_list = []\n",
    "valid_result_list = []\n",
    "for n_estimator in n_estimators:\n",
    "    rnd_clf = RandomForestClassifier(n_estimators=n_estimator, \n",
    "                                     max_depth=max_depth_train_valid_diff_min)\n",
    "    rnd_clf.fit(X_train_for_hp, y_train_for_hp)\n",
    "    y_pred_train = rnd_clf.predict(X_train_for_hp)\n",
    "    accuracy_score_rnd_train = accuracy_score(y_pred_train, y_train_for_hp)\n",
    "    \n",
    "    train_result_list.append(accuracy_score_rnd_train)\n",
    "    y_pred_valid = rnd_clf.predict(X_valid)\n",
    "    accuracy_score_rnd_valid = accuracy_score(y_pred_valid, y_valid)\n",
    "    \n",
    "    valid_result_list.append(accuracy_score_rnd_valid)"
   ]
  },
  {
   "cell_type": "code",
   "execution_count": 41,
   "id": "2cd59da0",
   "metadata": {},
   "outputs": [
    {
     "data": {
      "text/plain": [
       "[<matplotlib.lines.Line2D at 0x1ce00f57d00>]"
      ]
     },
     "execution_count": 41,
     "metadata": {},
     "output_type": "execute_result"
    },
    {
     "data": {
      "image/png": "[encoded data removed]",
      "text/plain": [
       "<Figure size 432x288 with 1 Axes>"
      ]
     },
     "metadata": {
      "needs_background": "light"
     },
     "output_type": "display_data"
    }
   ],
   "source": [
    "plt.figure()\n",
    "plt.plot(n_estimators, train_result_list)\n",
    "plt.plot(n_estimators, valid_result_list)"
   ]
  },
  {
   "cell_type": "code",
   "execution_count": 42,
   "id": "a59970f2",
   "metadata": {},
   "outputs": [],
   "source": [
    "n_estimators_min = np.argmax(np.array(valid_result_list) > 0.9)"
   ]
  },
  {
   "cell_type": "code",
   "execution_count": 43,
   "id": "f08fb54e",
   "metadata": {},
   "outputs": [
    {
     "data": {
      "text/plain": [
       "34"
      ]
     },
     "execution_count": 43,
     "metadata": {},
     "output_type": "execute_result"
    }
   ],
   "source": [
    "n_estimators_min"
   ]
  },
  {
   "cell_type": "code",
   "execution_count": null,
   "id": "987ca844",
   "metadata": {},
   "outputs": [],
   "source": []
  }
 ],
 "metadata": {
  "kernelspec": {
   "display_name": "Python 3",
   "language": "python",
   "name": "python3"
  },
  "language_info": {
   "codemirror_mode": {
    "name": "ipython",
    "version": 3
   },
   "file_extension": ".py",
   "mimetype": "text/x-python",
   "name": "python",
   "nbconvert_exporter": "python",
   "pygments_lexer": "ipython3",
   "version": "3.8.8"
  }
 },
 "nbformat": 4,
 "nbformat_minor": 5
}
