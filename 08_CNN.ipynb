{
 "cells": [
  {
   "cell_type": "code",
   "execution_count": 43,
   "metadata": {},
   "outputs": [],
   "source": [
    "import numpy as np\n",
    "import matplotlib.pyplot as plt\n",
    "import seaborn as sns\n",
    "\n",
    "from sklearn.model_selection import train_test_split\n",
    "\n",
    "import tensorflow as tf\n",
    "from tensorflow.keras import models\n",
    "from tensorflow.keras.layers import Dense, Conv2D, Flatten, Dropout, MaxPool2D\n",
    "from tensorflow.keras.callbacks import EarlyStopping\n",
    "\n",
    "from sklearn.metrics import accuracy_score, confusion_matrix"
   ]
  },
  {
   "cell_type": "markdown",
   "metadata": {},
   "source": [
    "# Load data"
   ]
  },
  {
   "cell_type": "code",
   "execution_count": 18,
   "metadata": {},
   "outputs": [],
   "source": [
    "# Load data\n",
    "npz = np.load('./my_comp_train_XY.npz')\n",
    "X_raw = npz['X']\n",
    "y_raw = npz['y']\n",
    "\n",
    "# Scale X data into range 0.0 to 1.0 and flatten image\n",
    "X_raw = (X_raw / 255.).reshape(-1, 28, 28, 1)\n",
    "y_raw = y_raw.reshape(-1,1)"
   ]
  },
  {
   "cell_type": "code",
   "execution_count": 19,
   "metadata": {},
   "outputs": [
    {
     "name": "stdout",
     "output_type": "stream",
     "text": [
      "Train data shape, X_train.shape:(27285, 28, 28, 1) y_train.shape:(27285, 1)\n",
      "Train data shape, X_valid.shape:(6822, 28, 28, 1) y_valid.shape:(6822, 1)\n",
      "Test data shape, X_test.shape:(11370, 28, 28, 1) y_test.shape:(11370, 1)\n"
     ]
    }
   ],
   "source": [
    "# Split data into train and valid set\n",
    "X_train_org, X_test, y_train_org, y_test = train_test_split(X_raw, y_raw, \n",
    "                                                      shuffle=True, test_size=0.25, stratify=y_raw)\n",
    "X_train, X_valid, y_train, y_valid = train_test_split(X_train_org, y_train_org, \n",
    "                                                      shuffle=True, test_size=0.20, stratify=y_train_org)\n",
    "print(\"Train data shape, X_train.shape:{} y_train.shape:{}\".format(X_train.shape, y_train.shape))\n",
    "print(\"Train data shape, X_valid.shape:{} y_valid.shape:{}\".format(X_valid.shape, y_valid.shape))\n",
    "print(\"Test data shape, X_test.shape:{} y_test.shape:{}\".format(X_test.shape, y_test.shape))"
   ]
  },
  {
   "cell_type": "code",
   "execution_count": 10,
   "metadata": {},
   "outputs": [
    {
     "name": "stdout",
     "output_type": "stream",
     "text": [
      "10\n"
     ]
    }
   ],
   "source": [
    "label_num = len(np.unique(y_train))\n",
    "print(label_num)"
   ]
  },
  {
   "cell_type": "markdown",
   "metadata": {},
   "source": [
    "# Train/Eval"
   ]
  },
  {
   "cell_type": "code",
   "execution_count": 26,
   "metadata": {},
   "outputs": [],
   "source": [
    "tf.keras.backend.clear_session()"
   ]
  },
  {
   "cell_type": "markdown",
   "metadata": {},
   "source": [
    "## Model 1"
   ]
  },
  {
   "cell_type": "markdown",
   "metadata": {},
   "source": [
    "### Train"
   ]
  },
  {
   "cell_type": "code",
   "execution_count": 27,
   "metadata": {},
   "outputs": [],
   "source": [
    "# Build model\n",
    "model_v1 = models.Sequential([\n",
    "    Conv2D(32, kernel_size=(3,3), activation=\"relu\", padding=\"same\", input_shape=(28, 28, 1)),\n",
    "    MaxPool2D(pool_size=(2,2)),\n",
    "    Dropout(0.25),\n",
    "    Conv2D(64, kernel_size=(3,3), activation=\"relu\", padding=\"same\"),\n",
    "    MaxPool2D(pool_size=(2,2)),\n",
    "    Dropout(0.25),\n",
    "    Flatten(),\n",
    "    Dense(128, activation=\"relu\"),\n",
    "    Dense(label_num, activation=\"softmax\"),\n",
    "])"
   ]
  },
  {
   "cell_type": "code",
   "execution_count": 29,
   "metadata": {},
   "outputs": [],
   "source": [
    "# Compile\n",
    "model_v1.compile(loss=\"sparse_categorical_crossentropy\", optimizer=\"Adam\", metrics=[\"accuracy\"])"
   ]
  },
  {
   "cell_type": "code",
   "execution_count": 28,
   "metadata": {},
   "outputs": [
    {
     "name": "stdout",
     "output_type": "stream",
     "text": [
      "Model: \"sequential\"\n",
      "_________________________________________________________________\n",
      "Layer (type)                 Output Shape              Param #   \n",
      "=================================================================\n",
      "conv2d (Conv2D)              (None, 28, 28, 32)        320       \n",
      "_________________________________________________________________\n",
      "max_pooling2d (MaxPooling2D) (None, 14, 14, 32)        0         \n",
      "_________________________________________________________________\n",
      "dropout (Dropout)            (None, 14, 14, 32)        0         \n",
      "_________________________________________________________________\n",
      "conv2d_1 (Conv2D)            (None, 14, 14, 64)        18496     \n",
      "_________________________________________________________________\n",
      "max_pooling2d_1 (MaxPooling2 (None, 7, 7, 64)          0         \n",
      "_________________________________________________________________\n",
      "dropout_1 (Dropout)          (None, 7, 7, 64)          0         \n",
      "_________________________________________________________________\n",
      "flatten (Flatten)            (None, 3136)              0         \n",
      "_________________________________________________________________\n",
      "dense (Dense)                (None, 128)               401536    \n",
      "_________________________________________________________________\n",
      "dense_1 (Dense)              (None, 10)                1290      \n",
      "=================================================================\n",
      "Total params: 421,642\n",
      "Trainable params: 421,642\n",
      "Non-trainable params: 0\n",
      "_________________________________________________________________\n"
     ]
    }
   ],
   "source": [
    "# Summary\n",
    "model_v1.summary()"
   ]
  },
  {
   "cell_type": "code",
   "execution_count": 31,
   "metadata": {},
   "outputs": [
    {
     "name": "stdout",
     "output_type": "stream",
     "text": [
      "Epoch 1/30\n",
      "214/214 [==============================] - 18s 86ms/step - loss: 0.3673 - accuracy: 0.8865 - val_loss: 0.1301 - val_accuracy: 0.9614\n",
      "Epoch 2/30\n",
      "214/214 [==============================] - 18s 84ms/step - loss: 0.1087 - accuracy: 0.9664 - val_loss: 0.0737 - val_accuracy: 0.9792\n",
      "Epoch 3/30\n",
      "214/214 [==============================] - 18s 85ms/step - loss: 0.0758 - accuracy: 0.9760 - val_loss: 0.0618 - val_accuracy: 0.9827\n",
      "Epoch 4/30\n",
      "214/214 [==============================] - 18s 84ms/step - loss: 0.0602 - accuracy: 0.9817 - val_loss: 0.0472 - val_accuracy: 0.9855\n",
      "Epoch 5/30\n",
      "214/214 [==============================] - 18s 83ms/step - loss: 0.0488 - accuracy: 0.9850 - val_loss: 0.0432 - val_accuracy: 0.9875\n",
      "Epoch 6/30\n",
      "214/214 [==============================] - 19s 87ms/step - loss: 0.0397 - accuracy: 0.9871 - val_loss: 0.0417 - val_accuracy: 0.9880\n",
      "Epoch 7/30\n",
      "214/214 [==============================] - 19s 88ms/step - loss: 0.0351 - accuracy: 0.9883 - val_loss: 0.0468 - val_accuracy: 0.9856\n",
      "Epoch 8/30\n",
      "214/214 [==============================] - 19s 87ms/step - loss: 0.0318 - accuracy: 0.9892 - val_loss: 0.0460 - val_accuracy: 0.9868\n"
     ]
    },
    {
     "data": {
      "text/plain": [
       "<tensorflow.python.keras.callbacks.History at 0x7fdb18bcd160>"
      ]
     },
     "execution_count": 31,
     "metadata": {},
     "output_type": "execute_result"
    }
   ],
   "source": [
    "# Train\n",
    "epochs = 30\n",
    "batch_size = 128\n",
    "\n",
    "early_stopping = EarlyStopping(monitor=\"val_loss\", patience=2, restore_best_weights=True)\n",
    "model_v1.fit(X_train, y_train,\n",
    "             validation_data=(X_valid, y_valid),\n",
    "             epochs=epochs,\n",
    "             batch_size=batch_size,\n",
    "             callbacks=[early_stopping]\n",
    "            )"
   ]
  },
  {
   "cell_type": "markdown",
   "metadata": {},
   "source": [
    "### Evaluate"
   ]
  },
  {
   "cell_type": "code",
   "execution_count": 38,
   "metadata": {},
   "outputs": [],
   "source": [
    "# Predict\n",
    "y_pred_train_v1 = np.argmax(model_v1.predict(X_train), axis=1)\n",
    "y_pred_valid_v1 = np.argmax(model_v1.predict(X_valid), axis=1)\n",
    "y_pred_test_v1 = np.argmax(model_v1.predict(X_test), axis=1)"
   ]
  },
  {
   "cell_type": "code",
   "execution_count": 39,
   "metadata": {},
   "outputs": [
    {
     "name": "stdout",
     "output_type": "stream",
     "text": [
      "Train accuracy score: \t0.9939527212754261\n",
      "Valid accuracy score: \t0.9879800644972149\n",
      "Test accuracy score: \t0.9842568161829376\n"
     ]
    }
   ],
   "source": [
    "# Accuracy score\n",
    "print(\"Train accuracy score: \\t{}\".format(accuracy_score(y_train, y_pred_train_v1)))\n",
    "print(\"Valid accuracy score: \\t{}\".format(accuracy_score(y_valid, y_pred_valid_v1)))\n",
    "print(\"Test accuracy score: \\t{}\".format(accuracy_score(y_test, y_pred_test_v1)))"
   ]
  },
  {
   "cell_type": "code",
   "execution_count": 40,
   "metadata": {},
   "outputs": [],
   "source": [
    "# Confusion matrix\n",
    "conf_matrix_train = confusion_matrix(y_train, y_pred_train_v1)\n",
    "conf_matrix_valid = confusion_matrix(y_valid, y_pred_valid_v1)\n",
    "conf_matrix_test  = confusion_matrix(y_test,  y_pred_test_v1)"
   ]
  },
  {
   "cell_type": "code",
   "execution_count": 51,
   "metadata": {},
   "outputs": [
    {
     "data": {
      "text/plain": [
       "Text(0.5, 1.0, 'Test data')"
      ]
     },
     "execution_count": 51,
     "metadata": {},
     "output_type": "execute_result"
    },
    {
     "data": {
      "image/png": "[encoded data removed]",
      "text/plain": [
       "<Figure size 1440x360 with 6 Axes>"
      ]
     },
     "metadata": {
      "needs_background": "light"
     },
     "output_type": "display_data"
    }
   ],
   "source": [
    "fig, axes = plt.subplots(1, 3, figsize=(20,5))\n",
    "sns.heatmap(conf_matrix_train, annot=True, vmin=0, vmax=20, ax=axes[0])\n",
    "axes[0].set_title(\"Train data\")\n",
    "sns.heatmap(conf_matrix_valid, annot=True, vmin=0, vmax=20, ax=axes[1])\n",
    "axes[1].set_title(\"Valid data\")\n",
    "sns.heatmap(conf_matrix_test, annot=True, vmin=0, vmax=20, ax=axes[2])\n",
    "axes[2].set_title(\"Test data\")"
   ]
  },
  {
   "cell_type": "code",
   "execution_count": 65,
   "metadata": {},
   "outputs": [
    {
     "name": "stdout",
     "output_type": "stream",
     "text": [
      "(179,)\n"
     ]
    }
   ],
   "source": [
    "# Images with wrong prediction\n",
    "wrong_predict_mask = (y_test.reshape(-1) != y_pred_test_v1)\n",
    "wrong_predict_indicies = np.where(wrong_predict_mask == True)[0]\n",
    "print((wrong_predict_indicies).shape)"
   ]
  },
  {
   "cell_type": "code",
   "execution_count": 82,
   "metadata": {},
   "outputs": [
    {
     "name": "stderr",
     "output_type": "stream",
     "text": [
      "/Users/sampeimasato/.pyenv/versions/anaconda3-2018.12/lib/python3.7/site-packages/matplotlib/figure.py:98: MatplotlibDeprecationWarning: \n",
      "Adding an axes using the same arguments as a previous axes currently reuses the earlier instance.  In a future version, a new instance will always be created and returned.  Meanwhile, this warning can be suppressed, and the future behavior ensured, by passing a unique label to each axes instance.\n",
      "  \"Adding an axes using the same arguments as a previous axes \"\n"
     ]
    },
    {
     "data": {
      "image/png": "[encoded data removed]",
      "text/plain": [
       "<Figure size 864x864 with 9 Axes>"
      ]
     },
     "metadata": {
      "needs_background": "light"
     },
     "output_type": "display_data"
    }
   ],
   "source": [
    "plt.subplots(3, 3, figsize=(12,12))\n",
    "plt.subplot(3,3,1)\n",
    "\n",
    "for count, wrong_idx in enumerate(wrong_predict_indicies):\n",
    "    if count >= 9:\n",
    "        break\n",
    "    plt.subplot(3, 3, count + 1)\n",
    "    plt.imshow(X_test[wrong_idx].reshape(28, 28), cmap=\"gray\")\n",
    "    plt.title(\"Label: {}\".format(y_test[wrong_idx]))"
   ]
  },
  {
   "cell_type": "markdown",
   "metadata": {},
   "source": [
    "# Save model"
   ]
  },
  {
   "cell_type": "code",
   "execution_count": 85,
   "metadata": {},
   "outputs": [
    {
     "name": "stdout",
     "output_type": "stream",
     "text": [
      "WARNING:tensorflow:From /Users/sampeimasato/.pyenv/versions/anaconda3-2018.12/lib/python3.7/site-packages/tensorflow/python/training/tracking/tracking.py:111: Model.state_updates (from tensorflow.python.keras.engine.training) is deprecated and will be removed in a future version.\n",
      "Instructions for updating:\n",
      "This property should not be used in TensorFlow 2.0, as updates are applied automatically.\n",
      "WARNING:tensorflow:From /Users/sampeimasato/.pyenv/versions/anaconda3-2018.12/lib/python3.7/site-packages/tensorflow/python/training/tracking/tracking.py:111: Layer.updates (from tensorflow.python.keras.engine.base_layer) is deprecated and will be removed in a future version.\n",
      "Instructions for updating:\n",
      "This property should not be used in TensorFlow 2.0, as updates are applied automatically.\n",
      "INFO:tensorflow:Assets written to: /Users/sampeimasato/Documents/kaggle/AppFolder/MNISTApp/estimator/cnn_model/assets\n"
     ]
    }
   ],
   "source": [
    "model_v1.save('/Users/sampeimasato/Documents/kaggle/AppFolder/MNISTApp/estimator/cnn_model')"
   ]
  },
  {
   "cell_type": "code",
   "execution_count": 86,
   "metadata": {},
   "outputs": [],
   "source": [
    "model_v1_loaded = tf.keras.models.load_model('/Users/sampeimasato/Documents/kaggle/AppFolder/MNISTApp/estimator/cnn_model')"
   ]
  },
  {
   "cell_type": "code",
   "execution_count": 87,
   "metadata": {},
   "outputs": [
    {
     "name": "stdout",
     "output_type": "stream",
     "text": [
      "Model: \"sequential\"\n",
      "_________________________________________________________________\n",
      "Layer (type)                 Output Shape              Param #   \n",
      "=================================================================\n",
      "conv2d (Conv2D)              (None, 28, 28, 32)        320       \n",
      "_________________________________________________________________\n",
      "max_pooling2d (MaxPooling2D) (None, 14, 14, 32)        0         \n",
      "_________________________________________________________________\n",
      "dropout (Dropout)            (None, 14, 14, 32)        0         \n",
      "_________________________________________________________________\n",
      "conv2d_1 (Conv2D)            (None, 14, 14, 64)        18496     \n",
      "_________________________________________________________________\n",
      "max_pooling2d_1 (MaxPooling2 (None, 7, 7, 64)          0         \n",
      "_________________________________________________________________\n",
      "dropout_1 (Dropout)          (None, 7, 7, 64)          0         \n",
      "_________________________________________________________________\n",
      "flatten (Flatten)            (None, 3136)              0         \n",
      "_________________________________________________________________\n",
      "dense (Dense)                (None, 128)               401536    \n",
      "_________________________________________________________________\n",
      "dense_1 (Dense)              (None, 10)                1290      \n",
      "=================================================================\n",
      "Total params: 421,642\n",
      "Trainable params: 421,642\n",
      "Non-trainable params: 0\n",
      "_________________________________________________________________\n"
     ]
    }
   ],
   "source": [
    "model_v1_loaded.summary()"
   ]
  },
  {
   "cell_type": "markdown",
   "metadata": {},
   "source": [
    "# Compare with simple neural net and XGBoost"
   ]
  },
  {
   "cell_type": "markdown",
   "metadata": {},
   "source": [
    "**The accuracy score for XGBoost and Neural net was bellow**<br>\n",
    "    - XGBoost accuracy:    0.969217238346526\n",
    "    - Neural net accuracy: 0.9657871591908531\n",
    "    \n",
    "Test accuracy for CNN was 0.984 which is 0.2 points higher.<br>\n",
    "NOTE: Evaluation dataset for XGBoost, NN and CNN are not the same. Therefore this not a precise comparison."
   ]
  },
  {
   "cell_type": "code",
   "execution_count": null,
   "metadata": {},
   "outputs": [],
   "source": []
  },
  {
   "cell_type": "code",
   "execution_count": null,
   "metadata": {},
   "outputs": [],
   "source": []
  }
 ],
 "metadata": {
  "kernelspec": {
   "display_name": "Python 3",
   "language": "python",
   "name": "python3"
  },
  "language_info": {
   "codemirror_mode": {
    "name": "ipython",
    "version": 3
   },
   "file_extension": ".py",
   "mimetype": "text/x-python",
   "name": "python",
   "nbconvert_exporter": "python",
   "pygments_lexer": "ipython3",
   "version": "3.7.1"
  },
  "toc": {
   "base_numbering": 1,
   "nav_menu": {},
   "number_sections": true,
   "sideBar": true,
   "skip_h1_title": false,
   "title_cell": "Table of Contents",
   "title_sidebar": "Contents",
   "toc_cell": false,
   "toc_position": {},
   "toc_section_display": true,
   "toc_window_display": false
  },
  "varInspector": {
   "cols": {
    "lenName": 16,
    "lenType": 16,
    "lenVar": 40
   },
   "kernels_config": {
    "python": {
     "delete_cmd_postfix": "",
     "delete_cmd_prefix": "del ",
     "library": "var_list.py",
     "varRefreshCmd": "print(var_dic_list())"
    },
    "r": {
     "delete_cmd_postfix": ") ",
     "delete_cmd_prefix": "rm(",
     "library": "var_list.r",
     "varRefreshCmd": "cat(var_dic_list()) "
    }
   },
   "types_to_exclude": [
    "module",
    "function",
    "builtin_function_or_method",
    "instance",
    "_Feature"
   ],
   "window_display": false
  }
 },
 "nbformat": 4,
 "nbformat_minor": 2
}
